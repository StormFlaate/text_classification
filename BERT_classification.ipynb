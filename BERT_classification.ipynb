{
 "cells": [
  {
   "cell_type": "markdown",
   "id": "a6eb4f19",
   "metadata": {},
   "source": [
    "# Section 0: Import section"
   ]
  },
  {
   "cell_type": "code",
   "execution_count": 2,
   "id": "e6684454",
   "metadata": {},
   "outputs": [],
   "source": [
    "# helper functions\n",
    "from helper_func_and_classes import TwitterDataset_BERT, BERTClassifier\n",
    "from helper_func_and_classes import create_data_loader_BERT\n",
    "from helper_func_and_classes import split_dataset\n",
    "from helper_func_and_classes import create_dataset_list\n",
    "from helper_func_and_classes import output_numpy_array_from_model_training\n",
    "from helper_func_and_classes import train_one_epoch, evaluate_model\n",
    "from helper_func_and_classes import create_predictions_BERT\n",
    "from helper_func_and_classes import create_submission_file\n",
    "\n",
    "\n",
    "# transformers\n",
    "import transformers\n",
    "from transformers import BertModel, BertTokenizer\n",
    "from transformers import logging, AdamW, get_linear_schedule_with_warmup\n",
    "\n",
    "# pytorch\n",
    "import torch\n",
    "from torch import nn, optim\n",
    "from torch.utils.data import Dataset, DataLoader\n",
    "\n",
    "\n",
    "# data science\n",
    "import numpy as np\n",
    "import pandas as pd\n",
    "import matplotlib.pyplot as plt\n",
    "\n",
    "\n",
    "# scikit learn\n",
    "from sklearn.model_selection import train_test_split\n",
    "from sklearn.metrics import confusion_matrix, classification_report\n",
    "\n",
    "#other\n",
    "import random\n",
    "import warnings\n",
    "from tqdm import tqdm\n",
    "\n",
    "\n",
    "\n",
    "RANDOM_SEED = 123\n",
    "random.seed(RANDOM_SEED)\n",
    "np.random.seed(RANDOM_SEED)\n",
    "torch.manual_seed(RANDOM_SEED);"
   ]
  },
  {
   "cell_type": "code",
   "execution_count": 11,
   "id": "8073979d",
   "metadata": {},
   "outputs": [],
   "source": [
    "# sets up cuda if gpu is available\n",
    "device = torch.device(\"cuda\" if torch.cuda.is_available() else \"cpu\")"
   ]
  },
  {
   "cell_type": "code",
   "execution_count": null,
   "id": "638b18c5",
   "metadata": {},
   "outputs": [],
   "source": [
    "# setup of parameters\n",
    "max_length = 37\n",
    "batch_size = 128\n",
    "DATA_FULL = True\n",
    "test_size = 0.1\n",
    "num_classes = 2\n",
    "dropout_prob = 0.35\n",
    "num_epoch = 4\n",
    "learning_rate = 2.5e-5\n",
    "correct_bias_val = False"
   ]
  },
  {
   "cell_type": "markdown",
   "id": "a7883686",
   "metadata": {},
   "source": [
    "\n",
    "# Section 1: Data preprocessing section\n",
    "## Section 1.1: Creating lists of sentences"
   ]
  },
  {
   "cell_type": "code",
   "execution_count": 12,
   "id": "870378cd",
   "metadata": {},
   "outputs": [
    {
     "name": "stdout",
     "output_type": "stream",
     "text": [
      "Length of all_data_lite:  200000\n",
      "Length of all_labels_lite:  200000 \n",
      "\n",
      "Length of all_data_full:  2500000\n",
      "Length of all_labels_full:  2500000 \n",
      "\n",
      "Length of submission_data:  10000\n"
     ]
    }
   ],
   "source": [
    "if DATA_FULL:\n",
    "    pos_data_full = create_dataset_list(\"./twitter-datasets/train_pos_full.txt\")\n",
    "    pos_labels_full = [1]*len(pos_data_full)\n",
    "\n",
    "    neg_data_full = create_dataset_list(\"./twitter-datasets/train_neg_full.txt\")\n",
    "    neg_labels_full = [0]*len(neg_data_full)\n",
    "\n",
    "    all_data_full = pos_data_full + neg_data_full\n",
    "    all_labels_full = pos_labels_full + neg_labels_full\n",
    "\n",
    "    print(\"Length of all_data_full: \", len(all_data_full))\n",
    "    print(\"Length of all_labels_full: \", len(all_labels_full), \"\\n\")\n",
    "    \n",
    "else:    \n",
    "    pos_data_lite = create_dataset_list(\"./twitter-datasets/train_pos.txt\")\n",
    "    pos_labels_lite = [1]*len(pos_data_lite)\n",
    "\n",
    "    neg_data_lite = create_dataset_list(\"./twitter-datasets/train_neg.txt\")\n",
    "    neg_labels_lite = [0]*len(neg_data_lite)\n",
    "\n",
    "    all_data_lite = pos_data_lite + neg_data_lite\n",
    "    all_labels_lite = pos_labels_lite + neg_labels_lite\n",
    "\n",
    "    print(\"Length of all_data_lite: \", len(all_data_lite))\n",
    "    print(\"Length of all_labels_lite: \", len(all_labels_lite), \"\\n\")\n",
    "\n",
    "submission_data = create_dataset_list(\"./twitter-datasets/test_data.txt\")\n",
    "\n",
    "\n",
    "\n",
    "\n",
    "\n",
    "print(\"Length of submission_data: \",len(submission_data))"
   ]
  },
  {
   "cell_type": "markdown",
   "id": "aa2c6eed",
   "metadata": {},
   "source": [
    "# Section 2: Binary classifier"
   ]
  },
  {
   "cell_type": "code",
   "execution_count": 14,
   "id": "5256c64a",
   "metadata": {},
   "outputs": [],
   "source": [
    "#PRETRAINED_MODEL_BERT = 'bert-base-cased'\n",
    "PRETRAINED_MODEL_BERT = 'bert-base-uncased'\n",
    "tokenizer = BertTokenizer.from_pretrained(PRETRAINED_MODEL_BERT)\n",
    "\n",
    "logging.set_verbosity_error()\n",
    "warnings.simplefilter(action='ignore', category=FutureWarning)"
   ]
  },
  {
   "cell_type": "code",
   "execution_count": 15,
   "id": "cf00ae4b",
   "metadata": {},
   "outputs": [],
   "source": [
    "if not DATA_FULL:\n",
    "    train_samples_lite, test_samples_lite, train_labels_lite, test_labels_lite = train_test_split(\n",
    "        all_data_lite, \n",
    "        all_labels_lite, \n",
    "        test_size=test_size, \n",
    "        random_state=RANDOM_SEED)\n",
    "    \n",
    "if DATA_FULL:\n",
    "    train_samples_full, test_samples_full, train_labels_full, test_labels_full = train_test_split(\n",
    "        all_data_full, \n",
    "        all_labels_full, \n",
    "        test_size=test_size, \n",
    "        random_state=RANDOM_SEED)"
   ]
  },
  {
   "cell_type": "code",
   "execution_count": 16,
   "id": "752c68a5",
   "metadata": {},
   "outputs": [],
   "source": [
    "if not DATA_FULL:\n",
    "    train_loader_lite = create_data_loader_BERT(\n",
    "        train_samples_lite,\n",
    "        train_labels_lite,\n",
    "        tokenizer, \n",
    "        max_length, \n",
    "        batch_size)\n",
    "\n",
    "    test_loader_lite = create_data_loader_BERT(\n",
    "        test_samples_lite,\n",
    "        test_labels_lite,\n",
    "        tokenizer, \n",
    "        max_length, \n",
    "        batch_size)\n",
    "\n",
    "if DATA_FULL:\n",
    "    train_loader_full = create_data_loader_BERT(\n",
    "        train_samples_full,\n",
    "        train_labels_full,\n",
    "        tokenizer, \n",
    "        max_length, \n",
    "        batch_size)\n",
    "\n",
    "    test_loader_full = create_data_loader_BERT(\n",
    "        test_samples_full,\n",
    "        test_labels_full,\n",
    "        tokenizer, \n",
    "        max_length, \n",
    "        batch_size)"
   ]
  },
  {
   "cell_type": "code",
   "execution_count": 17,
   "id": "03d524d0",
   "metadata": {},
   "outputs": [],
   "source": [
    "# return_dict = False to remove error\n",
    "model_bert = BertModel.from_pretrained(PRETRAINED_MODEL_BERT, return_dict=False)"
   ]
  },
  {
   "cell_type": "code",
   "execution_count": 18,
   "id": "c9315e82",
   "metadata": {},
   "outputs": [],
   "source": [
    "model = BERTClassifier(\n",
    "    num_classes=num_classes,\n",
    "    p=dropout_prob,\n",
    "    pretrained_model_name=PRETRAINED_MODEL_BERT)\n",
    "model = model.to(device)"
   ]
  },
  {
   "cell_type": "code",
   "execution_count": 19,
   "id": "92f64613",
   "metadata": {},
   "outputs": [],
   "source": [
    "if not DATA_FULL:\n",
    "    total_steps = len(train_loader_lite)*num_epoch\n",
    "else:\n",
    "    total_steps = len(train_loader_full)*num_epoch\n",
    "\n",
    "optimizer = AdamW(model.parameters(), correct_bias=correct_bias_val, lr=learning_rate)\n",
    "\n",
    "# setting up a scheduler with 30 000 warmup steps\n",
    "scheduler = get_linear_schedule_with_warmup(\n",
    "  optimizer,\n",
    "  num_warmup_steps=30000,\n",
    "  num_training_steps=total_steps\n",
    ")\n",
    "\n",
    "\n",
    "loss_func = nn.CrossEntropyLoss()"
   ]
  },
  {
   "cell_type": "code",
   "execution_count": null,
   "id": "19b9e433",
   "metadata": {},
   "outputs": [],
   "source": [
    "# setting up empty lists for plotting\n",
    "train_loss_list = []\n",
    "test_loss_list = []\n",
    "train_accuracy_list = []\n",
    "test_accuracy_list = []"
   ]
  },
  {
   "cell_type": "code",
   "execution_count": null,
   "id": "9bec3c5f",
   "metadata": {},
   "outputs": [],
   "source": [
    "%%time\n",
    "if not DATA_FULL:\n",
    "    for epoch in range(num_epoch):\n",
    "        print(\"Epoch: \", int(epoch+1))\n",
    "        train_accuracy, loss = train_one_epoch(\n",
    "            model,\n",
    "            train_loader_lite,\n",
    "            loss_func,\n",
    "            optimizer,\n",
    "            device,\n",
    "            scheduler,\n",
    "            len(train_samples_lite)\n",
    "          )\n",
    "\n",
    "        print(f'Train loss {loss} accuracy {train_accuracy}')\n",
    "        test_accuracy, test_loss = evaluate_model(\n",
    "            model,\n",
    "            test_loader_lite,\n",
    "            device,\n",
    "            loss_func,\n",
    "            len(test_samples_lite)\n",
    "          )\n",
    "        print(f'Test loss {test_loss} accuracy {test_accuracy}\\n')\n",
    "        \n",
    "        # appending data to lists\n",
    "        train_loss_list.append(loss)\n",
    "        test_loss_list.append(test_loss)\n",
    "        train_accuracy_list.append(train_accuracy)\n",
    "        test_accuracy_list.append(test_accuracy)\n",
    "\n",
    "\n",
    "if DATA_FULL:\n",
    "    for epoch in range(num_epoch):\n",
    "        print(\"Epoch: \", int(epoch+1))\n",
    "        train_accuracy, loss = train_one_epoch(\n",
    "            model,\n",
    "            train_loader_full,\n",
    "            loss_func,\n",
    "            optimizer,\n",
    "            device,\n",
    "            scheduler,\n",
    "            len(train_samples_full)\n",
    "          )\n",
    "\n",
    "        print(f'Train loss {loss} accuracy {train_accuracy}')\n",
    "        test_accuracy, test_loss = evaluate_model(\n",
    "            model,\n",
    "            test_loader_full,\n",
    "            device,\n",
    "            loss_func,\n",
    "            len(test_samples_full)\n",
    "          )\n",
    "        print(f'Test loss {test_loss} accuracy {test_accuracy}\\n')\n",
    "\n",
    "        # appending data to lists\n",
    "        train_loss_list.append(loss)\n",
    "        test_loss_list.append(test_loss)\n",
    "        train_accuracy_list.append(train_accuracy)\n",
    "        test_accuracy_list.append(test_accuracy)\n",
    "\n"
   ]
  },
  {
   "cell_type": "markdown",
   "id": "037f3df6",
   "metadata": {},
   "source": [
    "# Section 3: Creating submission"
   ]
  },
  {
   "cell_type": "code",
   "execution_count": null,
   "id": "2b550e4a",
   "metadata": {},
   "outputs": [],
   "source": [
    "# submission data loader\n",
    "submission_ids = []\n",
    "for i in range(10000):\n",
    "    submission_ids.append(i+1)\n",
    "    \n",
    "submission_loader = create_data_loader_BERT(\n",
    "    submission_data,\n",
    "    submission_ids, \n",
    "    tokenizer,\n",
    "    max_length, \n",
    "    batch_size)\n",
    "    \n",
    "\n",
    "\n",
    "numpy_predictions = create_predictions_BERT(model, submission_loader, device)\n",
    "numpy_predictions"
   ]
  },
  {
   "cell_type": "code",
   "execution_count": null,
   "id": "648e1b31",
   "metadata": {},
   "outputs": [],
   "source": [
    "create_submission_file(numpy_predictions)"
   ]
  }
 ],
 "metadata": {
  "kernelspec": {
   "display_name": "Python 3 (ipykernel)",
   "language": "python",
   "name": "python3"
  },
  "language_info": {
   "codemirror_mode": {
    "name": "ipython",
    "version": 3
   },
   "file_extension": ".py",
   "mimetype": "text/x-python",
   "name": "python",
   "nbconvert_exporter": "python",
   "pygments_lexer": "ipython3",
   "version": "3.9.7"
  }
 },
 "nbformat": 4,
 "nbformat_minor": 5
}
