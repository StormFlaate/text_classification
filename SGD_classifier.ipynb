{
 "cells": [
  {
   "cell_type": "markdown",
   "id": "a6eb4f19",
   "metadata": {},
   "source": [
    "# Import section"
   ]
  },
  {
   "cell_type": "code",
   "execution_count": 1,
   "id": "95aff7d4",
   "metadata": {},
   "outputs": [],
   "source": [
    "%matplotlib inline\n",
    "\n",
    "# Helper funcitons and classes\n",
    "from helper_func_and_classes import create_dataset_list, create_submission_file, create_vocab\n",
    "from helper_func_and_classes import split_dataset\n",
    "from helper_func_and_classes import word_vec_to_word_embeddings\n",
    "from helper_func_and_classes import word_vec_to_aggregated_word_embeddings\n",
    "from helper_func_and_classes import word_embeddings_extraction\n",
    "from helper_func_and_classes import TwitterDataset\n",
    "from helper_func_and_classes import get_count_of_longest_sentence\n",
    "from helper_func_and_classes import current_batch_train\n",
    "from helper_func_and_classes import batch_sized_linear_model\n",
    "\n",
    "# word embeddings\n",
    "from torchtext.vocab import GloVe\n",
    "\n",
    "# scikit-learn\n",
    "from sklearn.linear_model import SGDClassifier\n",
    "from sklearn.metrics import classification_report\n",
    "\n",
    "\n",
    "# plotting \n",
    "import matplotlib.pyplot as plt\n",
    "\n",
    "import numpy as np\n",
    "\n",
    "# random state\n",
    "RANDOM_SEED = 123 # used in helper functions"
   ]
  },
  {
   "cell_type": "markdown",
   "id": "41000ed3",
   "metadata": {},
   "source": [
    "# Section 1: Data preprocessing section"
   ]
  },
  {
   "cell_type": "markdown",
   "id": "47c75a6b",
   "metadata": {},
   "source": [
    "This section will extract the data from the three different .txt files. Then, the helper functions will process the tweets to create our vocabulary and three python lists for positive, negative, and submission tweets. The tweets are pre tokenized, so we only split on white space."
   ]
  },
  {
   "cell_type": "code",
   "execution_count": 3,
   "id": "870378cd",
   "metadata": {},
   "outputs": [
    {
     "name": "stderr",
     "output_type": "stream",
     "text": [
      "100%|█████████████████████████████████████| 1250000/1250000 [00:01<00:00, 821475.10it/s]\n",
      "100%|█████████████████████████████████████| 1250000/1250000 [00:01<00:00, 738159.02it/s]\n",
      "100%|█████████████████████████████████████████| 10000/10000 [00:00<00:00, 687466.85it/s]\n",
      "100%|███████████████████████████████████████| 100000/100000 [00:00<00:00, 925796.83it/s]\n",
      "100%|███████████████████████████████████████| 100000/100000 [00:00<00:00, 842084.30it/s]\n",
      "100%|█████████████████████████████████████████| 10000/10000 [00:00<00:00, 800714.75it/s]\n"
     ]
    },
    {
     "name": "stdout",
     "output_type": "stream",
     "text": [
      "Length of text_vocab_full:  604014\n",
      "Length of text_vocab_lite:  127802\n",
      "Length of submission_data:  10000\n"
     ]
    }
   ],
   "source": [
    "# creating the text vocabulary from the whole data set, including positive, negative and test data.\n",
    "text_vocab_full = create_vocab(\"./twitter-datasets/train_pos_full.txt\",\n",
    "                          \"./twitter-datasets/train_neg_full.txt\",\n",
    "                          \"./twitter-datasets/test_data.txt\")\n",
    "\n",
    "text_vocab_lite = create_vocab(\"./twitter-datasets/train_pos.txt\",\n",
    "                          \"./twitter-datasets/train_neg.txt\",\n",
    "                          \"./twitter-datasets/test_data.txt\")\n",
    "\n",
    "# creating a standard python library list of positive tweets, 1 tweet per index\n",
    "pos_data_full = create_dataset_list(\"./twitter-datasets/train_pos_full.txt\")\n",
    "pos_data_lite = create_dataset_list(\"./twitter-datasets/train_pos.txt\")\n",
    "\n",
    "# creating a standard python library list of negative tweets, 1 tweet per index\n",
    "neg_data_full = create_dataset_list(\"./twitter-datasets/train_neg_full.txt\")\n",
    "neg_data_lite = create_dataset_list(\"./twitter-datasets/train_neg.txt\")\n",
    "\n",
    "\n",
    "# creating a standard python library list of the tweets that will be used for submission, 1 tweet per index\n",
    "submission_data = create_dataset_list(\"./twitter-datasets/test_data.txt\")\n",
    "\n",
    "print(\"Length of text_vocab_full: \", len(text_vocab_full))\n",
    "print(\"Length of text_vocab_lite: \", len(text_vocab_lite))\n",
    "print(\"Length of submission_data: \",len(submission_data))"
   ]
  },
  {
   "cell_type": "markdown",
   "id": "e49a6bca",
   "metadata": {},
   "source": [
    "Here we will create the TwitterDataset class which contains all the pre processed data, we have done a sentence cutoff for the sentences longe than 37, this was found in the exploratory data analysis part."
   ]
  },
  {
   "cell_type": "code",
   "execution_count": 4,
   "id": "d1498d37",
   "metadata": {},
   "outputs": [
    {
     "name": "stderr",
     "output_type": "stream",
     "text": [
      "100%|█████████████████████████████████████| 1250000/1250000 [00:08<00:00, 146855.69it/s]\n",
      "100%|█████████████████████████████████████| 1250000/1250000 [00:09<00:00, 133697.79it/s]\n",
      "100%|███████████████████████████████████████| 100000/100000 [00:00<00:00, 256694.54it/s]\n",
      "100%|███████████████████████████████████████| 100000/100000 [00:00<00:00, 207854.28it/s]\n"
     ]
    }
   ],
   "source": [
    "# Creating the dataset in the TwitterDataset class which is found in the helper functions\n",
    "dataset_full = TwitterDataset(text_vocab_full, pos_data_full, neg_data_full, submission_data, 37)\n",
    "dataset_lite = TwitterDataset(text_vocab_lite, pos_data_lite, neg_data_lite, submission_data, 37)"
   ]
  },
  {
   "cell_type": "markdown",
   "id": "efbf95d2",
   "metadata": {},
   "source": [
    "Here we split and shuffle the dataset into training and testing. The longest sentences is also located by using the get_count_of_longest_sentence on the dataset."
   ]
  },
  {
   "cell_type": "code",
   "execution_count": 5,
   "id": "bf9a59af",
   "metadata": {},
   "outputs": [
    {
     "name": "stdout",
     "output_type": "stream",
     "text": [
      "Number of elements in train_data is:  2246870\n",
      "Number of elements in test_data is:  249653\n",
      "Number of elements in train_data is:  179784\n",
      "Number of elements in test_data is:  19976\n"
     ]
    }
   ],
   "source": [
    "# create training dataset and test dataset - using a split of 85% / 15%\n",
    "train_dataset_full, test_dataset_full = split_dataset(dataset_full, 0.9);\n",
    "train_dataset_lite, test_dataset_lite = split_dataset(dataset_lite, 0.9);\n",
    "\n",
    "# calculating the longest sentence\n",
    "max_len_full = get_count_of_longest_sentence(dataset_full)\n",
    "max_len_lite = get_count_of_longest_sentence(dataset_lite)"
   ]
  },
  {
   "cell_type": "markdown",
   "id": "bd9c481f",
   "metadata": {},
   "source": [
    "<br/><br/>\n",
    "# Section 2: SGDClassifier\n",
    "### loss='log' | Pretrained word embeddings (dim=25)\n",
    "Here we will use pre-trained Global Vector word embeddings (Glove); these will have a dimension of 25 per word. The pre-trained word embeddings were downloaded from https://pytorch.org/text/stable/_modules/torchtext/vocab/vectors.html#GloVe. The word embedding used has been trained on Twitter data, which will increase accuracy since our corpus also consists of Twitter data."
   ]
  },
  {
   "cell_type": "code",
   "execution_count": 6,
   "id": "589c4350",
   "metadata": {},
   "outputs": [],
   "source": [
    "glove_vec = GloVe(name='twitter.27B', dim=25)\n",
    "word_embeddings_full = glove_vec.get_vecs_by_tokens(list(text_vocab_full.keys()), lower_case_backup=True)\n",
    "word_embeddings_lite = glove_vec.get_vecs_by_tokens(list(text_vocab_lite.keys()), lower_case_backup=True)"
   ]
  },
  {
   "cell_type": "markdown",
   "id": "b054bc63",
   "metadata": {},
   "source": [
    "## Section 2.1: Choosing best parameters\n",
    "Here we will train the linear model with a batch size of 200 000 tweets per iteration. It is not possible to take in the whole dataset and transfer it to its corresponding word embedding since each vector is huge. This code will therefore take in 200 000 quotes at a time, transfer them into word embedding and then train on that part alone.  \n",
    "\n",
    "First and foremost we will ned to optimize the learning rate for the SGD classifier, this will be done on the dataset_lite."
   ]
  },
  {
   "cell_type": "code",
   "execution_count": 11,
   "id": "ac249295",
   "metadata": {},
   "outputs": [
    {
     "name": "stdout",
     "output_type": "stream",
     "text": [
      "Alpha value of:  0.001\n"
     ]
    },
    {
     "name": "stderr",
     "output_type": "stream",
     "text": [
      "19976it [00:00, 21296.97it/s]\n"
     ]
    },
    {
     "name": "stdout",
     "output_type": "stream",
     "text": [
      "{'precision': 0.6700094235699046, 'recall': 0.6646475278109242, 'f1-score': 0.6618136636375992, 'support': 19976} \n",
      "\n",
      "Alpha value of:  0.0025\n"
     ]
    },
    {
     "name": "stderr",
     "output_type": "stream",
     "text": [
      "19976it [00:01, 19837.10it/s]\n"
     ]
    },
    {
     "name": "stdout",
     "output_type": "stream",
     "text": [
      "{'precision': 0.6944819621406487, 'recall': 0.6938545315447092, 'f1-score': 0.693660023031696, 'support': 19976} \n",
      "\n",
      "Alpha value of:  0.004\n"
     ]
    },
    {
     "name": "stderr",
     "output_type": "stream",
     "text": [
      "19976it [00:00, 20294.89it/s]\n"
     ]
    },
    {
     "name": "stdout",
     "output_type": "stream",
     "text": [
      "{'precision': 0.7073673926647653, 'recall': 0.7005891377009636, 'f1-score': 0.6982979299631805, 'support': 19976} \n",
      "\n",
      "Alpha value of:  0.005\n"
     ]
    },
    {
     "name": "stderr",
     "output_type": "stream",
     "text": [
      "19976it [00:00, 20254.13it/s]\n"
     ]
    },
    {
     "name": "stdout",
     "output_type": "stream",
     "text": [
      "{'precision': 0.7115361355298837, 'recall': 0.7014882212556295, 'f1-score': 0.698113883421323, 'support': 19976} \n",
      "\n",
      "Alpha value of:  0.0075\n"
     ]
    },
    {
     "name": "stderr",
     "output_type": "stream",
     "text": [
      "19976it [00:00, 20272.82it/s]\n"
     ]
    },
    {
     "name": "stdout",
     "output_type": "stream",
     "text": [
      "{'precision': 0.7137273694799546, 'recall': 0.6983642236678342, 'f1-score': 0.6931069671677701, 'support': 19976} \n",
      "\n",
      "Alpha value of:  0.01\n"
     ]
    },
    {
     "name": "stderr",
     "output_type": "stream",
     "text": [
      "19976it [00:00, 20429.91it/s]\n"
     ]
    },
    {
     "name": "stdout",
     "output_type": "stream",
     "text": [
      "{'precision': 0.7127256765563685, 'recall': 0.6955888650448439, 'f1-score': 0.6896093891542714, 'support': 19976} \n",
      "\n",
      "Alpha value of:  0.025\n"
     ]
    },
    {
     "name": "stderr",
     "output_type": "stream",
     "text": [
      "19976it [00:00, 20879.76it/s]\n"
     ]
    },
    {
     "name": "stdout",
     "output_type": "stream",
     "text": [
      "{'precision': 0.708168483251348, 'recall': 0.6914342674211222, 'f1-score': 0.6853810854732143, 'support': 19976} \n",
      "\n",
      "Alpha value of:  0.035\n"
     ]
    },
    {
     "name": "stderr",
     "output_type": "stream",
     "text": [
      "19976it [00:00, 20907.71it/s]\n"
     ]
    },
    {
     "name": "stdout",
     "output_type": "stream",
     "text": [
      "{'precision': 0.707614718815498, 'recall': 0.6912884364935781, 'f1-score': 0.685369725629907, 'support': 19976} \n",
      "\n",
      "Alpha value of:  0.05\n"
     ]
    },
    {
     "name": "stderr",
     "output_type": "stream",
     "text": [
      "19976it [00:00, 20951.30it/s]\n"
     ]
    },
    {
     "name": "stdout",
     "output_type": "stream",
     "text": [
      "{'precision': 0.7040014139394347, 'recall': 0.6887957982088097, 'f1-score': 0.6831503144314133, 'support': 19976} \n",
      "\n"
     ]
    }
   ],
   "source": [
    "dimension = 25\n",
    "vec_size_lite = max_len_lite # Maximum sentences length in the whole dataset\n",
    "alpha_val_list = [1e-3, 2.5e-3, 4e-3, 5e-3, 7.5e-3, 1e-2, 2.5e-2, 3.5e-2, 5e-2] # different learning rates\n",
    "\n",
    "precision_list = []\n",
    "recall_list = []\n",
    "f1score_list = []\n",
    "support_list = []\n",
    "\n",
    "for alpha_val in alpha_val_list:\n",
    "    print(\"Alpha value of: \", alpha_val)\n",
    "    lr_model = batch_sized_linear_model(200000, train_dataset_lite, word_embeddings_lite, vec_size_lite, dimension, alpha_val)\n",
    "\n",
    "    \n",
    "    X_test, y_test = word_vec_to_word_embeddings(test_dataset_lite, word_embeddings_lite, vec_size_lite, dimension)\n",
    "    y_prediction = lr_model.predict(X_test)\n",
    "    \n",
    "    #precision, recall, f1score, support = classification_report(y_test, y_prediction, output_dict=True)\n",
    "    class_report = classification_report(y_test, y_prediction, output_dict=True)['macro avg']\n",
    "    print(class_report, \"\\n\")\n",
    "    \n",
    "    # appending results to corresponding list\n",
    "    precision_list.append(class_report['precision'])\n",
    "    recall_list.append(class_report['recall'])\n",
    "    f1score_list.append(class_report['f1-score'])\n",
    "    support_list.append(class_report['support'])"
   ]
  },
  {
   "cell_type": "code",
   "execution_count": 12,
   "id": "4009a9e0",
   "metadata": {},
   "outputs": [
    {
     "data": {
      "image/png": "[encoded data removed]",
      "text/plain": [
       "<Figure size 864x576 with 1 Axes>"
      ]
     },
     "metadata": {
      "needs_background": "light"
     },
     "output_type": "display_data"
    }
   ],
   "source": [
    "plt.rcParams[\"figure.figsize\"] = (12,8)\n",
    "plt.xticks(alpha_val_list, rotation='55', fontsize=12)\n",
    "plt.yticks(np.linspace(0.6,0.8, 50), fontsize=12)\n",
    "plt.plot(alpha_val_list, precision_list, linestyle='--', marker='o', color='blue', label='precision')\n",
    "plt.plot(alpha_val_list, recall_list, linestyle='--', marker='o', color='red', label='recall')\n",
    "plt.plot(alpha_val_list, f1score_list, linestyle='--', marker='o', color='green', label='f1-score')\n",
    "#plt.plot(alpha_val_list, support_list, color='orange', label='support')\n",
    "\n",
    "plt.title(\"Comparison for different values of alpha\", fontsize=15)\n",
    "plt.xlabel(\"alpha\", fontsize=15)\n",
    "plt.ylabel(\"percentage values (%)\", fontsize=15)\n",
    "\n",
    "\n",
    "plt.legend();"
   ]
  },
  {
   "cell_type": "markdown",
   "id": "9be281d4",
   "metadata": {},
   "source": [
    "## Section 2.2: Training the SGD classifier\n",
    "Using the best alpha value found in the last parameters optmization. The best value for the `alpha_val == 0.005`. This value is a combination of the precision, recall, and f1-score (which includes both recall and precision weighted half each).\n",
    "\n",
    "With this value we will train the SGD classifier on the full dataset and craete a classification report to see how the model perfomed."
   ]
  },
  {
   "cell_type": "code",
   "execution_count": 13,
   "id": "9516f219",
   "metadata": {},
   "outputs": [
    {
     "name": "stderr",
     "output_type": "stream",
     "text": [
      "249653it [00:11, 21176.13it/s]\n"
     ]
    },
    {
     "name": "stdout",
     "output_type": "stream",
     "text": [
      "              precision    recall  f1-score   support\n",
      "\n",
      "         0.0     0.7323    0.6510    0.6892    124773\n",
      "         1.0     0.6861    0.7622    0.7221    124880\n",
      "\n",
      "    accuracy                         0.7066    249653\n",
      "   macro avg     0.7092    0.7066    0.7057    249653\n",
      "weighted avg     0.7092    0.7066    0.7057    249653\n",
      "\n"
     ]
    }
   ],
   "source": [
    "dimension = 25\n",
    "vec_size_full = max_len_full\n",
    "best_alpha = 0.005\n",
    "\n",
    "lr_model = batch_sized_linear_model(200000, train_dataset_full, word_embeddings_full, vec_size_full, dimension, best_alpha)\n",
    "\n",
    "X_test, y_test = word_vec_to_word_embeddings(test_dataset_full, word_embeddings_full, vec_size_full, dimension)\n",
    "y_prediction = lr_model.predict(X_test)\n",
    "\n",
    "print(classification_report(y_test, y_prediction, digits=4))"
   ]
  },
  {
   "cell_type": "markdown",
   "id": "5906bd91",
   "metadata": {},
   "source": [
    "**Comments on the results from this model:**\n",
    "1. The vector is probably to big for the amount of data we have to train on.\n",
    "2. The vectors will tend to be sparse since a lot of them will be fitted with extra zeros to compensate for not having a long enough sentence."
   ]
  },
  {
   "cell_type": "markdown",
   "id": "4a54056a",
   "metadata": {},
   "source": [
    "# Section 3: Creating submission"
   ]
  },
  {
   "cell_type": "code",
   "execution_count": 14,
   "id": "a788285b",
   "metadata": {},
   "outputs": [
    {
     "name": "stderr",
     "output_type": "stream",
     "text": [
      "10000it [00:00, 20672.38it/s]\n"
     ]
    }
   ],
   "source": [
    "submission_matrix_25_lr, id_submission_matrix_25_lr = word_vec_to_word_embeddings(\n",
    "    dataset_full.submission_dataset,\n",
    "    word_embeddings_full,\n",
    "    vec_size_full,\n",
    "    dimension)"
   ]
  },
  {
   "cell_type": "code",
   "execution_count": null,
   "id": "ef3511e8",
   "metadata": {},
   "outputs": [],
   "source": [
    "submission_prediction_25_lr = lr_model.predict(submission_matrix_25_lr)"
   ]
  },
  {
   "cell_type": "code",
   "execution_count": null,
   "id": "bdc35190",
   "metadata": {},
   "outputs": [],
   "source": [
    "create_submission_file(submission_prediction_25_lr)"
   ]
  },
  {
   "cell_type": "code",
   "execution_count": null,
   "id": "0cd6eff1",
   "metadata": {},
   "outputs": [],
   "source": []
  }
 ],
 "metadata": {
  "kernelspec": {
   "display_name": "Python 3 (ipykernel)",
   "language": "python",
   "name": "python3"
  },
  "language_info": {
   "codemirror_mode": {
    "name": "ipython",
    "version": 3
   },
   "file_extension": ".py",
   "mimetype": "text/x-python",
   "name": "python",
   "nbconvert_exporter": "python",
   "pygments_lexer": "ipython3",
   "version": "3.9.7"
  }
 },
 "nbformat": 4,
 "nbformat_minor": 5
}
