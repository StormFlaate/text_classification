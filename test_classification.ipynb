{
 "cells": [
  {
   "cell_type": "markdown",
   "id": "a6eb4f19",
   "metadata": {},
   "source": [
    "# Section 0: Import section"
   ]
  },
  {
   "cell_type": "code",
   "execution_count": 14,
   "id": "f4126833",
   "metadata": {},
   "outputs": [],
   "source": [
    "# NLP helper functions\n",
    "from nltk.stem import PorterStemmer\n",
    "from textblob import TextBlob\n",
    "from gensim.scripts.glove2word2vec import glove2word2vec\n",
    "from nltk.sentiment import SentimentIntensityAnalyzer\n",
    "\n",
    "# data science\n",
    "import numpy as np\n",
    "from numpy import savetxt\n",
    "from numpy import loadtxt\n",
    "from tqdm import tqdm\n",
    "from transformers import BertTokenizer\n",
    "from sentence_transformers import SentenceTransformer\n",
    "import pandas as pd\n",
    "\n",
    "# scikit-learn\n",
    "import sklearn\n",
    "from sklearn.metrics import classification_report\n",
    "\n",
    "\n",
    "# python standard library\n",
    "import math\n",
    "import time\n",
    "import csv\n",
    "import random\n",
    "\n",
    "# create functions\n",
    "from helper_func_and_classes import create_dataset_list, create_submission_file, create_vocab\n",
    "\n",
    "# helper functions\n",
    "from helper_func_and_classes import split_dataset\n",
    "from helper_func_and_classes import output_numpy_array_from_model_training\n",
    "from helper_func_and_classes import output_numpy_array_from_model_submission\n",
    "\n",
    "# wordembedding functions\n",
    "from helper_func_and_classes import word_embeddings_extraction\n",
    "from helper_func_and_classes import get_count_of_longest_sentence\n",
    "\n",
    "# helper Classes\n",
    "from helper_func_and_classes import TwitterDataset\n",
    "\n",
    "\n",
    "# pytorch \n",
    "import torch\n",
    "import torch.nn as nn\n",
    "from torch.optim import Adam\n",
    "from torchtext.data import get_tokenizer\n",
    "from torch.utils.data import Dataset\n",
    "from torchtext.vocab import GloVe\n",
    "import torch.nn.functional as F\n",
    "from torch.utils.data import DataLoader, TensorDataset\n",
    "from torch import optim\n",
    "import torchvision.datasets as datasets\n",
    "import torchvision.transforms\n",
    "\n",
    "# sentence transformers\n",
    "from sentence_transformers import SentenceTransformer\n",
    "from transformers import BertTokenizerFast\n",
    "\n",
    "# plotting \n",
    "import matplotlib.pyplot as plt\n",
    "\n",
    "RANDOM_SEED = 123\n",
    "random.seed(RANDOM_SEED)\n",
    "torch.manual_seed(RANDOM_SEED);"
   ]
  },
  {
   "cell_type": "markdown",
   "id": "a35eed02",
   "metadata": {},
   "source": [
    "\n",
    "# Section 1: Data preprocessing section\n",
    "## Section 1.1: Creating lists of sentences"
   ]
  },
  {
   "cell_type": "code",
   "execution_count": 2,
   "id": "870378cd",
   "metadata": {},
   "outputs": [
    {
     "name": "stdout",
     "output_type": "stream",
     "text": [
      "Length of submission_data:  10000\n"
     ]
    }
   ],
   "source": [
    "pos_data = create_dataset_list(\"./twitter-datasets/train_pos_full.txt\")\n",
    "neg_data = create_dataset_list(\"./twitter-datasets/train_neg_full.txt\")\n",
    "\n",
    "submission_data = create_dataset_list(\"./twitter-datasets/test_data.txt\")\n",
    "\n",
    "print(\"Length of submission_data: \",len(submission_data))"
   ]
  },
  {
   "cell_type": "markdown",
   "id": "2991d203",
   "metadata": {},
   "source": [
    "## Section 1.2: Sentence embeddings\n",
    "In this section we will load in the sentence model from huggingface and encode the sentences. This part is pretty compute intensive and will take around 7-8 hours to finish. So to speed up this process, the embeddings have already been created and written to file. Change `sentence_transformer_created = False` to redo the encoding and write to file."
   ]
  },
  {
   "cell_type": "markdown",
   "id": "779e3a87",
   "metadata": {},
   "source": [
    "source: https://huggingface.co/sentence-transformers/all-mpnet-base-v2"
   ]
  },
  {
   "cell_type": "code",
   "execution_count": 3,
   "id": "f17fcc8e",
   "metadata": {},
   "outputs": [],
   "source": [
    "sentence_transformer_created = True\n",
    "\n",
    "if not sentence_transformer_created:\n",
    "    level_1_sentence_transformer = 'sentence-transformers/all-MiniLM-L6-v2'\n",
    "    #level_2_sentence_transformer = 'sentence-transformers/all-MiniLM-L12-v2'\n",
    "    #level_3_sentence_transformer = 'sentence-transformers/all-mpnet-base-v2'\n",
    "    sentence_model = SentenceTransformer(level_1_sentence_transformer)"
   ]
  },
  {
   "cell_type": "code",
   "execution_count": 4,
   "id": "5a22dbb9",
   "metadata": {},
   "outputs": [],
   "source": [
    "if not sentence_transformer_created:\n",
    "    print(\"pos_data length: \", len(pos_data))\n",
    "    print(\"neg_data length: \", len(neg_data))\n",
    "    print(\"submission_data length: \", len(submission_data))\n",
    "    full_data_list = pos_data + neg_data + submission_data\n",
    "    sentence_embeddings = sentence_model.encode(full_data_list, batch_size=256, show_progress_bar=True)"
   ]
  },
  {
   "cell_type": "markdown",
   "id": "af65b1eb",
   "metadata": {},
   "source": [
    "### Section 1.2.1: Writing sentence embeddings to file"
   ]
  },
  {
   "cell_type": "code",
   "execution_count": 5,
   "id": "01c3882e",
   "metadata": {},
   "outputs": [],
   "source": [
    "# saving word embeddings to file type 'sentence-transformers/all-MiniLM-L6-v2'\n",
    "if not sentence_transformer_created:\n",
    "    savetxt('./word_embeddings/full_full_data_list_sentence_embeddings.csv', sentence_embeddings, delimiter=',')\n"
   ]
  },
  {
   "cell_type": "markdown",
   "id": "048859bc",
   "metadata": {},
   "source": [
    "### Section 1.2.2: Reading sentence embeddings from file"
   ]
  },
  {
   "cell_type": "code",
   "execution_count": 6,
   "id": "9cf4445d",
   "metadata": {},
   "outputs": [
    {
     "name": "stderr",
     "output_type": "stream",
     "text": [
      "251it [02:57,  1.41it/s]\n"
     ]
    }
   ],
   "source": [
    "numb_rows, numb_cols = 2510000, 384\n",
    "chunk_rows = 10000\n",
    "filepath_sentence_embed = './word_embeddings/full_full_data_list_sentence_embeddings.csv'\n",
    "## read it back\n",
    "\n",
    "# Replace np.empty by np.memmap array for large datasets.\n",
    "full_data_list_sentence_embeddings = np.empty((numb_rows, numb_cols), dtype=np.float32)\n",
    "current_index = 0\n",
    "chunks = pd.read_csv(filepath_sentence_embed, chunksize=chunk_rows)\n",
    "for chunk in tqdm(chunks):\n",
    "    m, _ = chunk.shape\n",
    "    full_data_list_sentence_embeddings[current_index:current_index+m, :] = chunk\n",
    "    current_index += m\n"
   ]
  },
  {
   "cell_type": "code",
   "execution_count": 7,
   "id": "e46ba02a",
   "metadata": {},
   "outputs": [],
   "source": [
    "pos_data_sentence_embeddings = full_data_list_sentence_embeddings[:1250000].astype(np.float32)\n",
    "neg_data_sentence_embeddings = full_data_list_sentence_embeddings[1250000:2500000].astype(np.float32)\n",
    "submission_data_sentence_embeddings = full_data_list_sentence_embeddings[2500000:2500000+10000].astype(np.float32)"
   ]
  },
  {
   "cell_type": "markdown",
   "id": "87c146b5",
   "metadata": {},
   "source": [
    "# Section 2: Neural network"
   ]
  },
  {
   "cell_type": "code",
   "execution_count": 28,
   "id": "ca26c5b7",
   "metadata": {},
   "outputs": [],
   "source": [
    "# Sentence embeddings model\n",
    "\n",
    "class NN_se(nn.Module):\n",
    "    def __init__(self, input_size, num_classes, p):\n",
    "        super(NN_se, self).__init__()\n",
    "        self.fc1 = nn.Linear(input_size, 384)\n",
    "        self.fc2 = nn.Linear(384, 384)\n",
    "        #self.fc3 = nn.Linear(384, 384)\n",
    "        #self.fc4 = nn.Linear(384, 384)\n",
    "        self.fc9 = nn.Linear(384, num_classes)\n",
    "        self.dropout1 = nn.Dropout(p) \n",
    "        self.batchnorm1 = nn.BatchNorm1d(384)\n",
    "        self.batchnorm2 = nn.BatchNorm1d(384)\n",
    "        #self.dropout2 = nn.Dropout(p) \n",
    "\n",
    "    def forward(self, x):\n",
    "        x = F.leaky_relu(self.fc1(x))\n",
    "        x = self.batchnorm1(x)\n",
    "        x = F.leaky_relu(self.fc2(x))\n",
    "        x = self.batchnorm2(x)\n",
    "        x = self.dropout1(x)\n",
    "        x = self.fc9(x)\n",
    "        \n",
    "        \n",
    "        return x "
   ]
  },
  {
   "cell_type": "code",
   "execution_count": null,
   "id": "a76042e1",
   "metadata": {},
   "outputs": [],
   "source": [
    "#define hyperparameters\n",
    "size_of_vocab = len(TEXT.vocab)\n",
    "embedding_dim = 384\n",
    "num_hidden_nodes = 32\n",
    "num_output_nodes = 1\n",
    "num_layers = 2\n",
    "bidirection = True\n",
    "dropout = 0.2\n",
    "\n",
    "#instantiate the model\n",
    "model = classifier(size_of_vocab, embedding_dim, num_hidden_nodes,num_output_nodes, num_layers, \n",
    "                   bidirectional = True, dropout = dropout)"
   ]
  },
  {
   "cell_type": "markdown",
   "id": "cd48a80a",
   "metadata": {},
   "source": [
    "## Sentence embeddings"
   ]
  },
  {
   "cell_type": "code",
   "execution_count": 55,
   "id": "2f187da2",
   "metadata": {},
   "outputs": [
    {
     "name": "stdout",
     "output_type": "stream",
     "text": [
      "Number of elements in train_data is:  2250000\n",
      "Number of elements in test_data is:  250000\n"
     ]
    }
   ],
   "source": [
    "# Sentence embeddings\n",
    "batch_size = 32\n",
    "# appending correct labels to the corresponding vectors\n",
    "pos_data_sentence_embeddings_list = [(vector, 1) for vector in pos_data_sentence_embeddings]\n",
    "neg_data_sentence_embeddings_list = [(vector, 0) for vector in neg_data_sentence_embeddings]\n",
    "\n",
    "# creating one list we can shuffle and split into train and test\n",
    "full_data_sentence_embeddings_list = pos_data_sentence_embeddings_list + neg_data_sentence_embeddings_list\n",
    "train_dataset, test_dataset = split_dataset(full_data_sentence_embeddings_list, 0.90)\n",
    "\n",
    "# collecting samples and labels\n",
    "train_data_samples = np.array([x[0] for x in train_dataset])\n",
    "train_data_labels = np.array([x[1] for x in train_dataset])\n",
    "train_data_samples_tensor, train_data_labels_tensor = torch.tensor(train_data_samples), torch.tensor(train_data_labels)\n",
    "\n",
    "\n",
    "test_data_samples = np.array([x[0] for x in test_dataset])\n",
    "test_data_labels = np.array([x[1] for x in test_dataset])\n",
    "test_data_samples_tensor, test_data_labels_tensor = torch.tensor(test_data_samples), torch.tensor(test_data_labels)\n",
    "\n",
    "train_data_labels = train_data_labels_tensor.type(torch.LongTensor) # can't be float\n",
    "test_data_labels = test_data_labels_tensor.type(torch.LongTensor) # can't be float\n",
    "\n",
    "\n",
    "# normalize \n",
    "#train_data_samples_norm = F.normalize(train_data_samples_tensor, p=1.0, dim=-1)\n",
    "#test_data_samples_norm = F.normalize(test_data_samples_tensor, p=1.0, dim=-1)\n",
    "\n",
    "\n",
    "# lite data: creating the DataLoaders for smaller training and smaller test set\n",
    "train_data_samples_tensor_lite = train_data_samples_tensor[:int(len(train_data_samples_tensor)*0.05)]\n",
    "test_data_samples_tensor_lite = test_data_samples_tensor[:int(len(test_data_samples_tensor)*0.05)]\n",
    "train_data_labels_lite = train_data_labels[:len(train_data_samples_tensor_lite)]\n",
    "test_data_labels_lite = test_data_labels[:len(test_data_samples_tensor_lite)]\n",
    "\n",
    "train_dataset_lite = TensorDataset(train_data_samples_tensor_lite, train_data_labels_lite)\n",
    "train_loader_lite = DataLoader(dataset=train_dataset_lite, batch_size=batch_size,  shuffle=True)\n",
    "\n",
    "test_dataset_lite = TensorDataset(test_data_samples_tensor_lite, test_data_labels_lite)\n",
    "test_loader_lite = DataLoader(dataset=test_dataset_lite, batch_size=batch_size,  shuffle=False)\n",
    "\n",
    "\n",
    "# full data: creating the DataLoaders for full training and full test data\n",
    "train_dataset = TensorDataset(train_data_samples_tensor, train_data_labels)\n",
    "train_loader = DataLoader(dataset=train_dataset, batch_size=batch_size,  shuffle=True)\n",
    "\n",
    "test_dataset = TensorDataset(test_data_samples_tensor, test_data_labels)\n",
    "test_loader = DataLoader(dataset=test_dataset, batch_size=batch_size,  shuffle=False)"
   ]
  },
  {
   "cell_type": "markdown",
   "id": "28616144",
   "metadata": {},
   "source": [
    "## Section 2.1: Choosing best parameters"
   ]
  },
  {
   "cell_type": "code",
   "execution_count": 56,
   "id": "5bb9c269",
   "metadata": {},
   "outputs": [],
   "source": [
    "# Finding best parameters for neural network\n",
    "epoch_options = [5, 10]\n",
    "lr_options = [1e-4, 1e-3, 1e-2, 1e-1]\n",
    "drop_options = [0, 0.1, 0.45, 0.55, 0.65]\n",
    "\n",
    "all_options = []\n",
    "for i in epoch_options:\n",
    "    for j in lr_options:\n",
    "        for k in drop_options:\n",
    "             all_options.append([i,j,k])\n",
    "                \n",
    "precision_list = []\n",
    "recall_list = []\n",
    "f1score_list = []\n",
    "support_list = []"
   ]
  },
  {
   "cell_type": "code",
   "execution_count": 57,
   "id": "1c1ebea8",
   "metadata": {},
   "outputs": [
    {
     "name": "stdout",
     "output_type": "stream",
     "text": [
      "Epoch: 5 | Learning rate: 0.0001 | Dropout probability: 0\n",
      "Time of current iteration:  60.73287606239319\n",
      "{'precision': 0.7983124389229848, 'recall': 0.7974959899466036, 'f1-score': 0.7974375403699776, 'support': 12500} \n",
      "\n",
      "Epoch: 5 | Learning rate: 0.0001 | Dropout probability: 0.1\n",
      "Time of current iteration:  56.982364892959595\n",
      "{'precision': 0.7976323862755377, 'recall': 0.7972059369270621, 'f1-score': 0.7971895354999436, 'support': 12500} \n",
      "\n",
      "Epoch: 5 | Learning rate: 0.0001 | Dropout probability: 0.45\n",
      "Time of current iteration:  56.68720197677612\n",
      "{'precision': 0.8004840972392889, 'recall': 0.8004885281342725, 'f1-score': 0.8004796731058965, 'support': 12500} \n",
      "\n",
      "Epoch: 5 | Learning rate: 0.0001 | Dropout probability: 0.55\n",
      "Time of current iteration:  56.13555884361267\n",
      "{'precision': 0.8005260089799754, 'recall': 0.7999106749341762, 'f1-score': 0.7998769162986004, 'support': 12500} \n",
      "\n",
      "Epoch: 5 | Learning rate: 0.0001 | Dropout probability: 0.65\n",
      "Time of current iteration:  57.466421127319336\n",
      "{'precision': 0.8068236582335334, 'recall': 0.8066793808706936, 'f1-score': 0.8066867241352469, 'support': 12500} \n",
      "\n",
      "Epoch: 5 | Learning rate: 0.001 | Dropout probability: 0\n",
      "Time of current iteration:  57.69709515571594\n",
      "{'precision': 0.8107257598365394, 'recall': 0.8106736643941665, 'f1-score': 0.8106357812681895, 'support': 12500} \n",
      "\n",
      "Epoch: 5 | Learning rate: 0.001 | Dropout probability: 0.1\n",
      "Time of current iteration:  58.21910500526428\n",
      "{'precision': 0.8127086218882503, 'recall': 0.8077430792786329, 'f1-score': 0.8071823346316647, 'support': 12500} \n",
      "\n",
      "Epoch: 5 | Learning rate: 0.001 | Dropout probability: 0.45\n",
      "Time of current iteration:  56.36627197265625\n",
      "{'precision': 0.8115359887896131, 'recall': 0.8094342957461484, 'f1-score': 0.8092440035291462, 'support': 12500} \n",
      "\n",
      "Epoch: 5 | Learning rate: 0.001 | Dropout probability: 0.55\n",
      "Time of current iteration:  55.49648094177246\n",
      "{'precision': 0.8063468280068578, 'recall': 0.8063389461792669, 'f1-score': 0.8063197211003985, 'support': 12500} \n",
      "\n",
      "Epoch: 5 | Learning rate: 0.001 | Dropout probability: 0.65\n",
      "Time of current iteration:  54.60393285751343\n",
      "{'precision': 0.7998639843963293, 'recall': 0.799625946806785, 'f1-score': 0.799626632076291, 'support': 12500} \n",
      "\n",
      "Epoch: 5 | Learning rate: 0.01 | Dropout probability: 0\n",
      "Time of current iteration:  56.643590688705444\n",
      "{'precision': 0.8072669057377049, 'recall': 0.8070952344672897, 'f1-score': 0.8070210096322823, 'support': 12500} \n",
      "\n",
      "Epoch: 5 | Learning rate: 0.01 | Dropout probability: 0.1\n",
      "Time of current iteration:  58.75315594673157\n",
      "{'precision': 0.8093910322635918, 'recall': 0.8017584125103836, 'f1-score': 0.8007845397928968, 'support': 12500} \n",
      "\n",
      "Epoch: 5 | Learning rate: 0.01 | Dropout probability: 0.45\n",
      "Time of current iteration:  61.484963178634644\n",
      "{'precision': 0.8080977511449304, 'recall': 0.807682201425105, 'f1-score': 0.8075482381741393, 'support': 12500} \n",
      "\n",
      "Epoch: 5 | Learning rate: 0.01 | Dropout probability: 0.55\n",
      "Time of current iteration:  59.58173203468323\n",
      "{'precision': 0.802180049594488, 'recall': 0.8010146684394461, 'f1-score': 0.8007119360710665, 'support': 12500} \n",
      "\n",
      "Epoch: 5 | Learning rate: 0.01 | Dropout probability: 0.65\n",
      "Time of current iteration:  54.840532064437866\n",
      "{'precision': 0.8037233552839788, 'recall': 0.802687042980891, 'f1-score': 0.8024138178389899, 'support': 12500} \n",
      "\n",
      "Epoch: 5 | Learning rate: 0.1 | Dropout probability: 0\n",
      "Time of current iteration:  58.028006076812744\n",
      "{'precision': 0.8083538776944232, 'recall': 0.8069865349861798, 'f1-score': 0.8068774392997449, 'support': 12500} \n",
      "\n",
      "Epoch: 5 | Learning rate: 0.1 | Dropout probability: 0.1\n",
      "Time of current iteration:  60.26957893371582\n",
      "{'precision': 0.7620559401430604, 'recall': 0.6723400320476586, 'f1-score': 0.6408122277184563, 'support': 12500} \n",
      "\n",
      "Epoch: 5 | Learning rate: 0.1 | Dropout probability: 0.45\n",
      "Time of current iteration:  59.140799045562744\n",
      "{'precision': 0.79327677904489, 'recall': 0.7746809263182385, 'f1-score': 0.7714555273602707, 'support': 12500} \n",
      "\n",
      "Epoch: 5 | Learning rate: 0.1 | Dropout probability: 0.55\n",
      "Time of current iteration:  59.23888182640076\n",
      "{'precision': 0.776892474573064, 'recall': 0.7751180282825503, 'f1-score': 0.7748798566893983, 'support': 12500} \n",
      "\n",
      "Epoch: 5 | Learning rate: 0.1 | Dropout probability: 0.65\n",
      "Time of current iteration:  61.55386018753052\n",
      "{'precision': 0.7691358194233205, 'recall': 0.764905499548613, 'f1-score': 0.7637713376951776, 'support': 12500} \n",
      "\n",
      "Epoch: 10 | Learning rate: 0.0001 | Dropout probability: 0\n",
      "Time of current iteration:  107.07344317436218\n",
      "{'precision': 0.7833888115039535, 'recall': 0.7833349512813329, 'f1-score': 0.7833413417030013, 'support': 12500} \n",
      "\n",
      "Epoch: 10 | Learning rate: 0.0001 | Dropout probability: 0.1\n",
      "Time of current iteration:  113.17402505874634\n",
      "{'precision': 0.7907488546310848, 'recall': 0.7903251522509548, 'f1-score': 0.7903050420707634, 'support': 12500} \n",
      "\n",
      "Epoch: 10 | Learning rate: 0.0001 | Dropout probability: 0.45\n",
      "Time of current iteration:  111.82645988464355\n",
      "{'precision': 0.7887767908055501, 'recall': 0.7886873895084878, 'f1-score': 0.7886938710674105, 'support': 12500} \n",
      "\n",
      "Epoch: 10 | Learning rate: 0.0001 | Dropout probability: 0.55\n",
      "Time of current iteration:  112.54880094528198\n",
      "{'precision': 0.7966388857814647, 'recall': 0.7962492483709926, 'f1-score': 0.7962358652997483, 'support': 12500} \n",
      "\n",
      "Epoch: 10 | Learning rate: 0.0001 | Dropout probability: 0.65\n",
      "Time of current iteration:  129.30316710472107\n",
      "{'precision': 0.7976610919308988, 'recall': 0.7975672103791159, 'f1-score': 0.7975746077587973, 'support': 12500} \n",
      "\n",
      "Epoch: 10 | Learning rate: 0.001 | Dropout probability: 0\n",
      "Time of current iteration:  132.96251916885376\n",
      "{'precision': 0.7993510618226061, 'recall': 0.7993108053530731, 'f1-score': 0.799276658678971, 'support': 12500} \n",
      "\n",
      "Epoch: 10 | Learning rate: 0.001 | Dropout probability: 0.1\n",
      "Time of current iteration:  129.6695578098297\n",
      "{'precision': 0.8082357558172104, 'recall': 0.8070775189607121, 'f1-score': 0.8069923546548319, 'support': 12500} \n",
      "\n",
      "Epoch: 10 | Learning rate: 0.001 | Dropout probability: 0.45\n",
      "Time of current iteration:  138.24753618240356\n",
      "{'precision': 0.8035393246513337, 'recall': 0.8034091802779102, 'f1-score': 0.8033458585220248, 'support': 12500} \n",
      "\n",
      "Epoch: 10 | Learning rate: 0.001 | Dropout probability: 0.55\n",
      "Time of current iteration:  127.16471695899963\n",
      "{'precision': 0.8041059962246657, 'recall': 0.8039586681871282, 'f1-score': 0.8039654276564767, 'support': 12500} \n",
      "\n",
      "Epoch: 10 | Learning rate: 0.001 | Dropout probability: 0.65\n",
      "Time of current iteration:  128.38901710510254\n",
      "{'precision': 0.8065919167614941, 'recall': 0.8065806143614799, 'f1-score': 0.8065595047923323, 'support': 12500} \n",
      "\n",
      "Epoch: 10 | Learning rate: 0.01 | Dropout probability: 0\n",
      "Time of current iteration:  130.47019386291504\n",
      "{'precision': 0.8041098748031633, 'recall': 0.8038656873780394, 'f1-score': 0.8038672481350584, 'support': 12500} \n",
      "\n",
      "Epoch: 10 | Learning rate: 0.01 | Dropout probability: 0.1\n",
      "Time of current iteration:  135.36221599578857\n",
      "{'precision': 0.8021385043975258, 'recall': 0.8012390307221701, 'f1-score': 0.8009928188090559, 'support': 12500} \n",
      "\n",
      "Epoch: 10 | Learning rate: 0.01 | Dropout probability: 0.45\n",
      "Time of current iteration:  246.9692578315735\n",
      "{'precision': 0.7993604171241874, 'recall': 0.7993128021876295, 'f1-score': 0.7992758262218201, 'support': 12500} \n",
      "\n",
      "Epoch: 10 | Learning rate: 0.01 | Dropout probability: 0.55\n",
      "Time of current iteration:  246.8305459022522\n",
      "{'precision': 0.8020596107547117, 'recall': 0.8003274501467212, 'f1-score': 0.8001602564102563, 'support': 12500} \n",
      "\n",
      "Epoch: 10 | Learning rate: 0.01 | Dropout probability: 0.65\n",
      "Time of current iteration:  245.70457792282104\n",
      "{'precision': 0.7988321860666899, 'recall': 0.7968161957823577, 'f1-score': 0.7963295815159073, 'support': 12500} \n",
      "\n",
      "Epoch: 10 | Learning rate: 0.1 | Dropout probability: 0\n",
      "Time of current iteration:  255.07686495780945\n",
      "{'precision': 0.7959303758294497, 'recall': 0.7959034887874156, 'f1-score': 0.7959091835132714, 'support': 12500} \n",
      "\n",
      "Epoch: 10 | Learning rate: 0.1 | Dropout probability: 0.1\n",
      "Time of current iteration:  257.92166900634766\n",
      "{'precision': 0.7792255963420422, 'recall': 0.7730345618269132, 'f1-score': 0.7715223751250354, 'support': 12500} \n",
      "\n",
      "Epoch: 10 | Learning rate: 0.1 | Dropout probability: 0.45\n"
     ]
    },
    {
     "name": "stdout",
     "output_type": "stream",
     "text": [
      "Time of current iteration:  174.4578559398651\n",
      "{'precision': 0.7922366381068952, 'recall': 0.7865137582924955, 'f1-score': 0.7856865287019956, 'support': 12500} \n",
      "\n",
      "Epoch: 10 | Learning rate: 0.1 | Dropout probability: 0.55\n",
      "Time of current iteration:  180.78724884986877\n",
      "{'precision': 0.7387698773565163, 'recall': 0.5933846816779472, 'f1-score': 0.5193749408095594, 'support': 12500} \n",
      "\n",
      "Epoch: 10 | Learning rate: 0.1 | Dropout probability: 0.65\n",
      "Time of current iteration:  175.97993111610413\n",
      "{'precision': 0.7591301286809955, 'recall': 0.7553531550395598, 'f1-score': 0.7546421843289309, 'support': 12500} \n",
      "\n",
      "CPU times: user 1h 31min 52s, sys: 34min 14s, total: 2h 6min 6s\n",
      "Wall time: 1h 13min 59s\n"
     ]
    }
   ],
   "source": [
    "%%time\n",
    "\n",
    "for epoch_i, lr_i, drop_i in all_options:\n",
    "    start_time = time.time()\n",
    "    print(f\"Epoch: {epoch_i} | Learning rate: {lr_i} | Dropout probability: {drop_i}\")\n",
    "    \n",
    "    model = NN_se(input_size=input_dim, num_classes=num_classes, p=drop_i)\n",
    "    criterion = nn.CrossEntropyLoss()\n",
    "    optimizer = optim.Adam(model.parameters(), lr=lr_i)\n",
    "    for epoch in range(epoch_i):\n",
    "        for data, labels in train_loader_lite:\n",
    "\n",
    "            model_score = model(data)\n",
    "            loss = criterion(model_score, labels)\n",
    "            optimizer.zero_grad()\n",
    "\n",
    "            loss.backward()\n",
    "\n",
    "            optimizer.step()\n",
    "    \n",
    "    \n",
    "    # creating status report for current iteration\n",
    "    predicted_labels = output_numpy_array_from_model_training(test_loader_lite, model)\n",
    "    \n",
    "    class_report = classification_report(test_data_labels_lite, predicted_labels, output_dict=True)['macro avg']\n",
    "    \n",
    "    # appending results to corresponding list\n",
    "    precision_list.append(class_report['precision'])\n",
    "    recall_list.append(class_report['recall'])\n",
    "    f1score_list.append(class_report['f1-score'])\n",
    "    support_list.append(class_report['support'])\n",
    "    print(\"Time of current iteration: \", time.time()-start_time)\n",
    "    print(class_report, \"\\n\")"
   ]
  },
  {
   "cell_type": "code",
   "execution_count": 58,
   "id": "a7410470",
   "metadata": {},
   "outputs": [
    {
     "data": {
      "image/png": "[encoded data removed]",
      "text/plain": [
       "<Figure size 1584x576 with 1 Axes>"
      ]
     },
     "metadata": {
      "needs_background": "light"
     },
     "output_type": "display_data"
    }
   ],
   "source": [
    "all_options_str = [f\"{a}-{b}-{c}\" for a,b,c in all_options]\n",
    "\n",
    "fig = plt.figure()\n",
    "ax = fig.add_subplot(111)\n",
    "\n",
    "plt.rcParams[\"figure.figsize\"] = (22,8)\n",
    "\n",
    "plt.xticks(rotation='55', fontsize=10)\n",
    "ax.plot(all_options_str, precision_list, linestyle='--', marker='o', color='blue', label='precision')\n",
    "ax.plot(all_options_str, recall_list, linestyle='--', marker='o', color='red', label='recall')\n",
    "ax.plot(all_options_str, f1score_list, linestyle='--', marker='o', color='green', label='f1-score')\n",
    "plt.title(\"Grid search for the best parameters\", fontsize=15)\n",
    "plt.xlabel(\"parameters epoch-learing rate-dropout probability\", fontsize=15)\n",
    "plt.ylabel(\"percentage values (%)\", fontsize=15)\n",
    "\n",
    "plt.legend()\n",
    "plt.show();"
   ]
  },
  {
   "cell_type": "code",
   "execution_count": 60,
   "id": "d11bcf40",
   "metadata": {},
   "outputs": [],
   "source": [
    "input_dim = 384\n",
    "num_classes = 2\n",
    "learning_rate = 0.001 \n",
    "num_epoch = 5\n",
    "drop_probability = 0.1\n"
   ]
  },
  {
   "cell_type": "code",
   "execution_count": 61,
   "id": "750a7712",
   "metadata": {},
   "outputs": [
    {
     "name": "stderr",
     "output_type": "stream",
     "text": [
      "100%|███████████████████████| 70313/70313 [08:33<00:00, 137.03it/s]\n",
      "100%|███████████████████████| 70313/70313 [04:30<00:00, 260.18it/s]\n",
      "100%|███████████████████████| 70313/70313 [07:06<00:00, 164.77it/s]\n",
      "100%|███████████████████████| 70313/70313 [06:54<00:00, 169.77it/s]\n",
      "100%|███████████████████████| 70313/70313 [03:48<00:00, 308.13it/s]\n"
     ]
    },
    {
     "name": "stdout",
     "output_type": "stream",
     "text": [
      "              precision    recall  f1-score   support\n",
      "\n",
      "           0       0.87      0.79      0.83    124929\n",
      "           1       0.81      0.88      0.84    125071\n",
      "\n",
      "    accuracy                           0.83    250000\n",
      "   macro avg       0.84      0.83      0.83    250000\n",
      "weighted avg       0.84      0.83      0.83    250000\n",
      "\n"
     ]
    }
   ],
   "source": [
    "model = NN_se(input_size=input_dim, num_classes=num_classes, p=drop_probability)\n",
    "criterion = nn.CrossEntropyLoss()\n",
    "\n",
    "optimizer = optim.Adam(model.parameters(), lr=learning_rate)\n",
    "for epoch in range(num_epoch):\n",
    "    for data, labels in tqdm(train_loader):\n",
    "\n",
    "        model_score = model(data)\n",
    "        loss = criterion(model_score, labels)\n",
    "        optimizer.zero_grad()\n",
    "\n",
    "        loss.backward()\n",
    "\n",
    "        optimizer.step()\n",
    "    \n",
    "predicted_labels = output_numpy_array_from_model_training(test_loader, model)\n",
    "print(sklearn.metrics.classification_report(test_data_labels, predicted_labels))"
   ]
  },
  {
   "cell_type": "markdown",
   "id": "af5c72aa",
   "metadata": {},
   "source": [
    "### Specific for sentence embeddings"
   ]
  },
  {
   "cell_type": "code",
   "execution_count": 62,
   "id": "b78b7c0b",
   "metadata": {},
   "outputs": [],
   "source": [
    "# sentence embeddings submission\n",
    "submission_data_sentence_embeddings_tensor = torch.tensor(submission_data_sentence_embeddings).type(torch.float)\n",
    "#submission_data_sentence_embeddings_tensor_scaled = F.normalize(submission_data_sentence_embeddings_tensor, p=1.0, dim=-1)\n",
    "id_submit = torch.tensor(np.arange(0,10000)).type(torch.float)"
   ]
  },
  {
   "cell_type": "code",
   "execution_count": 63,
   "id": "a974debe",
   "metadata": {},
   "outputs": [
    {
     "data": {
      "text/plain": [
       "array([1., 1., 0., ..., 1., 0., 0.])"
      ]
     },
     "execution_count": 63,
     "metadata": {},
     "output_type": "execute_result"
    }
   ],
   "source": [
    "submission_dataset = TensorDataset(submission_data_sentence_embeddings_tensor, id_submit)\n",
    "submission_loader = DataLoader(dataset=submission_dataset, batch_size=batch_size,  shuffle=False)\n",
    "\n",
    "\n",
    "submission_numpy_array = output_numpy_array_from_model_training(submission_loader, model)\n",
    "submission_numpy_array"
   ]
  },
  {
   "cell_type": "code",
   "execution_count": 64,
   "id": "96a6ca65",
   "metadata": {},
   "outputs": [],
   "source": [
    "create_submission_file(submission_numpy_array)"
   ]
  },
  {
   "cell_type": "code",
   "execution_count": null,
   "id": "7076340c",
   "metadata": {},
   "outputs": [],
   "source": []
  }
 ],
 "metadata": {
  "kernelspec": {
   "display_name": "Python 3 (ipykernel)",
   "language": "python",
   "name": "python3"
  },
  "language_info": {
   "codemirror_mode": {
    "name": "ipython",
    "version": 3
   },
   "file_extension": ".py",
   "mimetype": "text/x-python",
   "name": "python",
   "nbconvert_exporter": "python",
   "pygments_lexer": "ipython3",
   "version": "3.9.7"
  }
 },
 "nbformat": 4,
 "nbformat_minor": 5
}
