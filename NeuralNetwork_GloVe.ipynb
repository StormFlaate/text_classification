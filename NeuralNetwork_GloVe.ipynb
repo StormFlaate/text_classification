{
 "cells": [
  {
   "cell_type": "markdown",
   "id": "25f75a3f",
   "metadata": {},
   "source": [
    "# Section 0: Import section"
   ]
  },
  {
   "cell_type": "code",
   "execution_count": 15,
   "id": "2da782d0",
   "metadata": {},
   "outputs": [],
   "source": [
    "# pytorch \n",
    "import torch\n",
    "import torch.nn as nn\n",
    "from torch.optim import Adam\n",
    "import torch.nn.functional as F\n",
    "from torch.nn.functional import normalize\n",
    "from torch.utils.data import DataLoader, TensorDataset\n",
    "\n",
    "# Helper funcitons and classes\n",
    "from helper_func_and_classes import create_dataset_list, create_submission_file, create_vocab\n",
    "from helper_func_and_classes import split_dataset\n",
    "from helper_func_and_classes import word_vec_to_aggregated_word_embeddings\n",
    "from helper_func_and_classes import TwitterDataset\n",
    "from helper_func_and_classes import get_count_of_longest_sentence\n",
    "from helper_func_and_classes import output_numpy_array_from_model_training\n",
    "from helper_func_and_classes import output_numpy_array_from_model_submission\n",
    "\n",
    "# word embeddings\n",
    "from torchtext.vocab import GloVe\n",
    "\n",
    "# scikit-learn\n",
    "from sklearn.preprocessing import scale\n",
    "from sklearn.model_selection import train_test_split\n",
    "from sklearn.metrics import classification_report\n",
    "\n",
    "# plotting \n",
    "import matplotlib.pyplot as plt\n",
    "\n",
    "#data science\n",
    "from tqdm import tqdm\n",
    "import time\n",
    "\n",
    "# random state\n",
    "RANDOM_SEED = 123 # used in helper functions"
   ]
  },
  {
   "cell_type": "markdown",
   "id": "88567cf5",
   "metadata": {},
   "source": [
    "# Section 1: Data preprocessing section\n",
    "This section will extract the data from the three different .txt files. Then, the helper functions will process the tweets to create our vocabulary and three python lists for positive, negative, and submission tweets. The tweets are pre tokenized, so we only split on white space."
   ]
  },
  {
   "cell_type": "code",
   "execution_count": 2,
   "id": "81a9cc4f",
   "metadata": {},
   "outputs": [
    {
     "name": "stderr",
     "output_type": "stream",
     "text": [
      "100%|████████████████| 1250000/1250000 [00:01<00:00, 697725.27it/s]\n",
      "100%|████████████████| 1250000/1250000 [00:02<00:00, 602265.69it/s]\n",
      "100%|████████████████████| 10000/10000 [00:00<00:00, 549380.98it/s]\n",
      "100%|██████████████████| 100000/100000 [00:00<00:00, 794401.33it/s]\n",
      "100%|██████████████████| 100000/100000 [00:00<00:00, 761793.23it/s]\n",
      "100%|████████████████████| 10000/10000 [00:00<00:00, 745879.47it/s]\n"
     ]
    },
    {
     "name": "stdout",
     "output_type": "stream",
     "text": [
      "Length of text_vocab_full:  604014\n",
      "Length of text_vocab_lite:  127802\n",
      "Length of submission_data:  10000\n"
     ]
    }
   ],
   "source": [
    "# creating the text vocabulary from the whole data set, including positive, negative and test data.\n",
    "text_vocab_full = create_vocab(\"./twitter-datasets/train_pos_full.txt\",\n",
    "                          \"./twitter-datasets/train_neg_full.txt\",\n",
    "                          \"./twitter-datasets/test_data.txt\")\n",
    "\n",
    "text_vocab_lite = create_vocab(\"./twitter-datasets/train_pos.txt\",\n",
    "                          \"./twitter-datasets/train_neg.txt\",\n",
    "                          \"./twitter-datasets/test_data.txt\")\n",
    "\n",
    "# creating a standard python library list of the tweets that will be used for submission, 1 tweet per index\n",
    "submission_data = create_dataset_list(\"./twitter-datasets/test_data.txt\")\n",
    "\n",
    "print(\"Length of text_vocab_full: \", len(text_vocab_full))\n",
    "print(\"Length of text_vocab_lite: \", len(text_vocab_lite))\n",
    "print(\"Length of submission_data: \",len(submission_data))"
   ]
  },
  {
   "cell_type": "markdown",
   "id": "f695de6d",
   "metadata": {},
   "source": [
    "Here we will create the TwitterDataset class which contains all the pre processed data, here we do not have any cutoff since we can have any length for the quotes since they are just aggregated over the same dimensions.\n",
    "\n",
    "Furthermore we will split and shuffle the dataset into training and testing. The longest sentences is also located by using the get_count_of_longest_sentence on the dataset."
   ]
  },
  {
   "cell_type": "code",
   "execution_count": 3,
   "id": "7b8db43e",
   "metadata": {},
   "outputs": [
    {
     "name": "stderr",
     "output_type": "stream",
     "text": [
      "100%|████████████████| 1250000/1250000 [00:08<00:00, 150135.25it/s]\n",
      "100%|████████████████| 1250000/1250000 [00:10<00:00, 117015.31it/s]\n",
      "100%|██████████████████| 100000/100000 [00:00<00:00, 172476.85it/s]\n",
      "100%|██████████████████| 100000/100000 [00:00<00:00, 146299.59it/s]\n"
     ]
    },
    {
     "name": "stdout",
     "output_type": "stream",
     "text": [
      "Number of elements in train_data is:  2250000\n",
      "Number of elements in test_data is:  250000\n",
      "Number of elements in train_data is:  180000\n",
      "Number of elements in test_data is:  20000\n"
     ]
    }
   ],
   "source": [
    "# Creating the dataset in the TwitterDataset class which is found in the helper functions\n",
    "dataset_full = TwitterDataset(text_vocab_full,\n",
    "                              create_dataset_list(\"./twitter-datasets/train_pos_full.txt\"),\n",
    "                              create_dataset_list(\"./twitter-datasets/train_neg_full.txt\"),\n",
    "                              submission_data,\n",
    "                              1000)\n",
    "\n",
    "dataset_lite = TwitterDataset(text_vocab_lite, \n",
    "                              create_dataset_list(\"./twitter-datasets/train_pos.txt\"),\n",
    "                              create_dataset_list(\"./twitter-datasets/train_neg.txt\"),\n",
    "                              submission_data,\n",
    "                              1000)\n",
    "\n",
    "# create training dataset and test dataset - using a split of 85% / 15%\n",
    "train_dataset_full, test_dataset_full = split_dataset(dataset_full, 0.9);\n",
    "train_dataset_lite, test_dataset_lite = split_dataset(dataset_lite, 0.9);\n",
    "\n",
    "# calculating the longest sentence\n",
    "max_len_full = get_count_of_longest_sentence(dataset_full)\n",
    "max_len_lite = get_count_of_longest_sentence(dataset_lite)"
   ]
  },
  {
   "cell_type": "markdown",
   "id": "bd7c7fd2",
   "metadata": {},
   "source": [
    "# Section 2: Neural network\n",
    "#### Pretrained word embeddings (dim=200) \n",
    "Here we will use pre-trained Global Vector word embeddings (Glove); these will have a dimension of 200 per word. The pre-trained word embeddings were downloaded from https://pytorch.org/text/stable/_modules/torchtext/vocab/vectors.html#GloVe. The word embedding used has been trained on Twitter data, which will increase accuracy since our corpus also consists of Twitter data."
   ]
  },
  {
   "cell_type": "code",
   "execution_count": 4,
   "id": "050275b2",
   "metadata": {},
   "outputs": [],
   "source": [
    "batch_size = 16\n",
    "glove_vec = GloVe(name='twitter.27B', dim=200)"
   ]
  },
  {
   "cell_type": "code",
   "execution_count": 5,
   "id": "e1efbd4a",
   "metadata": {},
   "outputs": [],
   "source": [
    "word_embeddings_lite = glove_vec.get_vecs_by_tokens(list(text_vocab_lite.keys()), lower_case_backup=True)\n",
    "word_embeddings_full = glove_vec.get_vecs_by_tokens(list(text_vocab_full.keys()), lower_case_backup=True)"
   ]
  },
  {
   "cell_type": "code",
   "execution_count": 6,
   "id": "045182ac",
   "metadata": {},
   "outputs": [
    {
     "name": "stderr",
     "output_type": "stream",
     "text": [
      "2250000it [02:10, 17277.37it/s]\n",
      "/var/folders/pc/5ytjzw0165n86jc4_pv2802c0000gn/T/ipykernel_82441/415349543.py:4: UserWarning: To copy construct from a tensor, it is recommended to use sourceTensor.clone().detach() or sourceTensor.clone().detach().requires_grad_(True), rather than torch.tensor(sourceTensor).\n",
      "  matrix_train_full_tensor = torch.tensor(matrix_train_full).type(torch.float)\n",
      "250000it [00:23, 10458.49it/s]\n",
      "/var/folders/pc/5ytjzw0165n86jc4_pv2802c0000gn/T/ipykernel_82441/415349543.py:10: UserWarning: To copy construct from a tensor, it is recommended to use sourceTensor.clone().detach() or sourceTensor.clone().detach().requires_grad_(True), rather than torch.tensor(sourceTensor).\n",
      "  matrix_test_full_tensor = torch.tensor(matrix_test_full).type(torch.float)\n",
      "180000it [00:11, 15705.92it/s]\n",
      "/var/folders/pc/5ytjzw0165n86jc4_pv2802c0000gn/T/ipykernel_82441/415349543.py:17: UserWarning: To copy construct from a tensor, it is recommended to use sourceTensor.clone().detach() or sourceTensor.clone().detach().requires_grad_(True), rather than torch.tensor(sourceTensor).\n",
      "  matrix_train_lite_tensor = torch.tensor(matrix_train_lite).type(torch.float)\n",
      "20000it [00:01, 14106.35it/s]\n",
      "/var/folders/pc/5ytjzw0165n86jc4_pv2802c0000gn/T/ipykernel_82441/415349543.py:22: UserWarning: To copy construct from a tensor, it is recommended to use sourceTensor.clone().detach() or sourceTensor.clone().detach().requires_grad_(True), rather than torch.tensor(sourceTensor).\n",
      "  matrix_test_lite_tensor = torch.tensor(matrix_test_lite).type(torch.float)\n"
     ]
    }
   ],
   "source": [
    "# full version of dataset used for training the model\n",
    "matrix_train_full, labels_train_full = word_vec_to_aggregated_word_embeddings(train_dataset_full, word_embeddings_full, 200)\n",
    "#scaled_matrix_train_full = torch.tensor(scale(matrix_train_full)).type(torch.float)\n",
    "matrix_train_full_tensor = torch.tensor(matrix_train_full).type(torch.float)\n",
    "scaled_matrix_train_full = normalize(matrix_train_full_tensor, p=1.0, dim =-1)\n",
    "\n",
    "\n",
    "matrix_test_full, labels_test_full = word_vec_to_aggregated_word_embeddings(test_dataset_full, word_embeddings_full, 200)\n",
    "#scaled_matrix_test_full = torch.tensor(scale(matrix_test_full)).type(torch.float)\n",
    "matrix_test_full_tensor = torch.tensor(matrix_test_full).type(torch.float)\n",
    "scaled_matrix_test_full = normalize(matrix_test_full_tensor, p=1.0, dim =-1)\n",
    "\n",
    "\n",
    "# small version of dataset used for param optimizing\n",
    "matrix_train_lite, labels_train_lite = word_vec_to_aggregated_word_embeddings(train_dataset_lite, word_embeddings_lite, 200)\n",
    "#scaled_matrix_train_lite = torch.tensor(scale(matrix_train_lite)).type(torch.float)\n",
    "matrix_train_lite_tensor = torch.tensor(matrix_train_lite).type(torch.float)\n",
    "scaled_matrix_train_lite = normalize(matrix_train_lite_tensor, p=1.0, dim =-1)\n",
    "\n",
    "matrix_test_lite, labels_test_lite = word_vec_to_aggregated_word_embeddings(test_dataset_lite, word_embeddings_lite, 200)\n",
    "#scaled_matrix_test_lite = torch.tensor(scale(matrix_test_lite)).type(torch.float)\n",
    "matrix_test_lite_tensor = torch.tensor(matrix_test_lite).type(torch.float)\n",
    "scaled_matrix_test_lite = normalize(matrix_test_lite_tensor, p=1.0, dim =-1)"
   ]
  },
  {
   "cell_type": "code",
   "execution_count": 7,
   "id": "13bab062",
   "metadata": {},
   "outputs": [
    {
     "name": "stdout",
     "output_type": "stream",
     "text": [
      "Shape of scaled_matrix_train_full:  torch.Size([2250000, 200])\n",
      "Shape of scaled_matrix_test_full:  torch.Size([250000, 200])\n",
      "Shape of scaled_matrix_train_lite:  torch.Size([180000, 200])\n",
      "Shape of scaled_matrix_test_lite:  torch.Size([20000, 200])\n"
     ]
    }
   ],
   "source": [
    "print(\"Shape of scaled_matrix_train_full: \", scaled_matrix_train_full.shape)\n",
    "print(\"Shape of scaled_matrix_test_full: \", scaled_matrix_test_full.shape)\n",
    "print(\"Shape of scaled_matrix_train_lite: \", scaled_matrix_train_lite.shape)\n",
    "print(\"Shape of scaled_matrix_test_lite: \", scaled_matrix_test_lite.shape)"
   ]
  },
  {
   "cell_type": "code",
   "execution_count": 16,
   "id": "fd366912",
   "metadata": {},
   "outputs": [],
   "source": [
    "# best model for GloVE and current best\n",
    "class NN(nn.Module):\n",
    "    def __init__(self, input_size, num_classes, p):\n",
    "        super(NN, self).__init__()\n",
    "        self.fc1 = nn.Linear(input_size, 200)\n",
    "        self.fc2 = nn.Linear(200, 200)\n",
    "        self.fc9 = nn.Linear(200, num_classes)\n",
    "        self.dropout1 = nn.Dropout(p) \n",
    "        self.batchnorm1 = nn.BatchNorm1d(200)\n",
    "        self.batchnorm2 = nn.BatchNorm1d(200)\n",
    "\n",
    "    def forward(self, x):\n",
    "        x = F.leaky_relu(self.fc1(x))\n",
    "        x = self.batchnorm1(x)\n",
    "        x = F.leaky_relu(self.fc2(x))\n",
    "        x = self.batchnorm2(x)\n",
    "        x = self.dropout1(x)\n",
    "        x = self.fc9(x)\n",
    "        \n",
    "        \n",
    "        return x "
   ]
  },
  {
   "cell_type": "markdown",
   "id": "819f78b2",
   "metadata": {},
   "source": [
    "## Sentence embeddings"
   ]
  },
  {
   "cell_type": "code",
   "execution_count": 17,
   "id": "f5c63c32",
   "metadata": {},
   "outputs": [],
   "source": [
    "# full version of dataset used for training the model\n",
    "labels_train_full = labels_train_full.type(torch.LongTensor) # can't be float\n",
    "labels_test_full = labels_test_full.type(torch.LongTensor) # can't be float\n",
    "\n",
    "# already shuffled\n",
    "train_dataset_full = TensorDataset(scaled_matrix_train_full, labels_train_full)\n",
    "train_loader_full = DataLoader(dataset=train_dataset_full, batch_size=batch_size,  shuffle=False)\n",
    "test_dataset_full = TensorDataset(scaled_matrix_test_full, labels_test_full)\n",
    "test_loader_full = DataLoader(dataset=test_dataset_full, batch_size=batch_size,  shuffle=False)\n",
    "\n",
    "\n",
    "# small version of dataset used for param optimizing\n",
    "labels_train_lite = labels_train_lite.type(torch.LongTensor) # can't be float\n",
    "labels_test_lite = labels_test_lite.type(torch.LongTensor) # can't be float\n",
    "\n",
    "# already shuffled\n",
    "train_dataset_lite = TensorDataset(scaled_matrix_train_lite, labels_train_lite)\n",
    "train_loader_lite = DataLoader(dataset=train_dataset_lite, batch_size=batch_size,  shuffle=False)\n",
    "test_dataset_lite = TensorDataset(scaled_matrix_test_lite, labels_test_lite)\n",
    "test_loader_lite = DataLoader(dataset=test_dataset_lite, batch_size=batch_size,  shuffle=False)"
   ]
  },
  {
   "cell_type": "markdown",
   "id": "f6069db3",
   "metadata": {},
   "source": [
    "## Section 2.1: Choosing best parameters"
   ]
  },
  {
   "cell_type": "code",
   "execution_count": 22,
   "id": "9153ddae",
   "metadata": {},
   "outputs": [],
   "source": [
    "# Finding best parameters for neural network\n",
    "input_dim = 200\n",
    "num_classes = 2\n",
    "epoch_options = [3, 5]\n",
    "lr_options = [1e-4, 1e-3, 1e-2]\n",
    "drop_options = [0.1, 0.45, 0.55, 0.65]\n",
    "\n",
    "all_options = []\n",
    "for i in epoch_options:\n",
    "    for j in lr_options:\n",
    "        for k in drop_options:\n",
    "             all_options.append([i,j,k])\n",
    "                \n",
    "precision_list = []\n",
    "recall_list = []\n",
    "f1score_list = []\n",
    "support_list = []"
   ]
  },
  {
   "cell_type": "code",
   "execution_count": 28,
   "id": "f66cbb13",
   "metadata": {},
   "outputs": [
    {
     "name": "stdout",
     "output_type": "stream",
     "text": [
      "Epoch: 3 | Learning rate: 0.0001 | Dropout probability: 0.1\n",
      "Time of current iteration:  75.16151881217957\n",
      "{'precision': 0.7990987216550399, 'recall': 0.7987497059846744, 'f1-score': 0.7987296177600345, 'support': 20000} \n",
      "\n",
      "Epoch: 3 | Learning rate: 0.0001 | Dropout probability: 0.45\n",
      "Time of current iteration:  76.61768078804016\n",
      "{'precision': 0.7922527366730066, 'recall': 0.791737548597842, 'f1-score': 0.7916936054259074, 'support': 20000} \n",
      "\n",
      "Epoch: 3 | Learning rate: 0.0001 | Dropout probability: 0.55\n",
      "Time of current iteration:  77.58521103858948\n",
      "{'precision': 0.7903077012903603, 'recall': 0.789627608321316, 'f1-score': 0.7895599226669241, 'support': 20000} \n",
      "\n",
      "Epoch: 3 | Learning rate: 0.0001 | Dropout probability: 0.65\n",
      "Time of current iteration:  89.15863108634949\n",
      "{'precision': 0.788182094060524, 'recall': 0.7874758826432322, 'f1-score': 0.7874023886950247, 'support': 20000} \n",
      "\n",
      "Epoch: 3 | Learning rate: 0.001 | Dropout probability: 0.1\n",
      "Time of current iteration:  79.6990909576416\n",
      "{'precision': 0.7920420009435204, 'recall': 0.7919208753596122, 'f1-score': 0.7919207809958695, 'support': 20000} \n",
      "\n",
      "Epoch: 3 | Learning rate: 0.001 | Dropout probability: 0.45\n",
      "Time of current iteration:  77.41431975364685\n",
      "{'precision': 0.7895922451532208, 'recall': 0.7894140312688405, 'f1-score': 0.789408428697346, 'support': 20000} \n",
      "\n",
      "Epoch: 3 | Learning rate: 0.001 | Dropout probability: 0.55\n",
      "Time of current iteration:  83.68733382225037\n",
      "{'precision': 0.7861240238863026, 'recall': 0.7856387299881953, 'f1-score': 0.7855943323107359, 'support': 20000} \n",
      "\n",
      "Epoch: 3 | Learning rate: 0.001 | Dropout probability: 0.65\n",
      "Time of current iteration:  79.18531012535095\n",
      "{'precision': 0.7884839317936327, 'recall': 0.7883149507066762, 'f1-score': 0.7883099773550937, 'support': 20000} \n",
      "\n",
      "Epoch: 3 | Learning rate: 0.01 | Dropout probability: 0.1\n",
      "Time of current iteration:  71.13510203361511\n",
      "{'precision': 0.7850041108568806, 'recall': 0.7819419744623746, 'f1-score': 0.7814768681782223, 'support': 20000} \n",
      "\n",
      "Epoch: 3 | Learning rate: 0.01 | Dropout probability: 0.45\n",
      "Time of current iteration:  69.60150504112244\n",
      "{'precision': 0.782433546011629, 'recall': 0.7755099176503086, 'f1-score': 0.7743110018699201, 'support': 20000} \n",
      "\n",
      "Epoch: 3 | Learning rate: 0.01 | Dropout probability: 0.55\n",
      "Time of current iteration:  68.97625708580017\n",
      "{'precision': 0.7808993331400553, 'recall': 0.7758957263579302, 'f1-score': 0.7750506359611891, 'support': 20000} \n",
      "\n",
      "Epoch: 3 | Learning rate: 0.01 | Dropout probability: 0.65\n",
      "Time of current iteration:  70.3526771068573\n",
      "{'precision': 0.778864232091412, 'recall': 0.7716024400994493, 'f1-score': 0.7702960383428921, 'support': 20000} \n",
      "\n",
      "Epoch: 5 | Learning rate: 0.0001 | Dropout probability: 0.1\n",
      "Time of current iteration:  116.20534086227417\n",
      "{'precision': 0.8017485094829235, 'recall': 0.8012924454204005, 'f1-score': 0.8012619386681787, 'support': 20000} \n",
      "\n",
      "Epoch: 5 | Learning rate: 0.0001 | Dropout probability: 0.45\n",
      "Time of current iteration:  120.8541808128357\n",
      "{'precision': 0.7949382639163823, 'recall': 0.7943855590452225, 'f1-score': 0.7943388272823229, 'support': 20000} \n",
      "\n",
      "Epoch: 5 | Learning rate: 0.0001 | Dropout probability: 0.55\n",
      "Time of current iteration:  120.38309812545776\n",
      "{'precision': 0.7981789527246137, 'recall': 0.7970576847243502, 'f1-score': 0.7969388036644862, 'support': 20000} \n",
      "\n",
      "Epoch: 5 | Learning rate: 0.0001 | Dropout probability: 0.65\n",
      "Time of current iteration:  116.32575178146362\n",
      "{'precision': 0.7933422438414517, 'recall': 0.7930539912488559, 'f1-score': 0.7930380583604867, 'support': 20000} \n",
      "\n",
      "Epoch: 5 | Learning rate: 0.001 | Dropout probability: 0.1\n",
      "Time of current iteration:  113.65012788772583\n",
      "{'precision': 0.7972939008886175, 'recall': 0.796842247654, 'f1-score': 0.7968095375742235, 'support': 20000} \n",
      "\n",
      "Epoch: 5 | Learning rate: 0.001 | Dropout probability: 0.45\n",
      "Time of current iteration:  111.90432405471802\n",
      "{'precision': 0.7925830135417253, 'recall': 0.7924722756585691, 'f1-score': 0.792473029794952, 'support': 20000} \n",
      "\n",
      "Epoch: 5 | Learning rate: 0.001 | Dropout probability: 0.55\n",
      "Time of current iteration:  109.64244103431702\n",
      "{'precision': 0.7892702119590841, 'recall': 0.7890056573443671, 'f1-score': 0.788990798730969, 'support': 20000} \n",
      "\n",
      "Epoch: 5 | Learning rate: 0.001 | Dropout probability: 0.65\n",
      "Time of current iteration:  114.92540502548218\n",
      "{'precision': 0.7891899836720242, 'recall': 0.7887415498062936, 'f1-score': 0.7887041371799971, 'support': 20000} \n",
      "\n",
      "Epoch: 5 | Learning rate: 0.01 | Dropout probability: 0.1\n",
      "Time of current iteration:  114.8216769695282\n",
      "{'precision': 0.7906001166690678, 'recall': 0.787800555763341, 'f1-score': 0.7874046029851016, 'support': 20000} \n",
      "\n",
      "Epoch: 5 | Learning rate: 0.01 | Dropout probability: 0.45\n",
      "Time of current iteration:  111.9222481250763\n",
      "{'precision': 0.7790786356184958, 'recall': 0.7730752392530492, 'f1-score': 0.7720210357306594, 'support': 20000} \n",
      "\n",
      "Epoch: 5 | Learning rate: 0.01 | Dropout probability: 0.55\n",
      "Time of current iteration:  116.55790615081787\n",
      "{'precision': 0.7865695762001259, 'recall': 0.7799164699972767, 'f1-score': 0.7788129102180752, 'support': 20000} \n",
      "\n",
      "Epoch: 5 | Learning rate: 0.01 | Dropout probability: 0.65\n",
      "Time of current iteration:  116.61030697822571\n",
      "{'precision': 0.7824611154329113, 'recall': 0.7749498372679362, 'f1-score': 0.7736368241894913, 'support': 20000} \n",
      "\n",
      "CPU times: user 35min 52s, sys: 20min 31s, total: 56min 24s\n",
      "Wall time: 38min 22s\n"
     ]
    }
   ],
   "source": [
    "%%time\n",
    "\n",
    "for epoch_i, lr_i, drop_i in all_options:\n",
    "    start_time = time.time()\n",
    "    print(f\"Epoch: {epoch_i} | Learning rate: {lr_i} | Dropout probability: {drop_i}\")\n",
    "    \n",
    "    model = NN(input_size=input_dim, num_classes=num_classes, p=drop_i)\n",
    "    criterion = nn.CrossEntropyLoss()\n",
    "    optimizer = Adam(model.parameters(), lr=lr_i)\n",
    "    for epoch in range(epoch_i):\n",
    "        for data, labels in train_loader_lite:\n",
    "\n",
    "            model_score = model(data)\n",
    "            loss = criterion(model_score, labels)\n",
    "            optimizer.zero_grad()\n",
    "\n",
    "            loss.backward()\n",
    "\n",
    "            optimizer.step()\n",
    "    \n",
    "    \n",
    "    # creating status report for current iteration\n",
    "    predicted_labels = output_numpy_array_from_model_training(test_loader_lite, model)\n",
    "    \n",
    "    class_report = classification_report(labels_test_lite, predicted_labels, output_dict=True)['macro avg']\n",
    "    \n",
    "    # appending results to corresponding list\n",
    "    precision_list.append(class_report['precision'])\n",
    "    recall_list.append(class_report['recall'])\n",
    "    f1score_list.append(class_report['f1-score'])\n",
    "    support_list.append(class_report['support'])\n",
    "    print(\"Time of current iteration: \", time.time()-start_time)\n",
    "    print(class_report, \"\\n\")"
   ]
  },
  {
   "cell_type": "code",
   "execution_count": 29,
   "id": "e9f78fdb",
   "metadata": {},
   "outputs": [
    {
     "data": {
      "image/png": "[encoded data removed]",
      "text/plain": [
       "<Figure size 1584x576 with 1 Axes>"
      ]
     },
     "metadata": {
      "needs_background": "light"
     },
     "output_type": "display_data"
    }
   ],
   "source": [
    "all_options_str = [f\"{a}-{b}-{c}\" for a,b,c in all_options]\n",
    "\n",
    "fig = plt.figure()\n",
    "ax = fig.add_subplot(111)\n",
    "\n",
    "plt.rcParams[\"figure.figsize\"] = (22,8)\n",
    "\n",
    "plt.xticks(rotation='55', fontsize=10)\n",
    "ax.plot(all_options_str, precision_list, linestyle='--', marker='o', color='blue', label='precision')\n",
    "ax.plot(all_options_str, recall_list, linestyle='--', marker='o', color='red', label='recall')\n",
    "ax.plot(all_options_str, f1score_list, linestyle='--', marker='o', color='green', label='f1-score')\n",
    "plt.title(\"Grid search for the best parameters\", fontsize=15)\n",
    "plt.xlabel(\"parameters epoch-learing rate-dropout probability\", fontsize=15)\n",
    "plt.ylabel(\"percentage values (%)\", fontsize=15)\n",
    "\n",
    "plt.legend()\n",
    "plt.show();"
   ]
  },
  {
   "cell_type": "code",
   "execution_count": 33,
   "id": "1a5640be",
   "metadata": {},
   "outputs": [],
   "source": [
    "input_dim = 200\n",
    "num_classes = 2\n",
    "learning_rate = 0.0001\n",
    "num_epochs = 5\n",
    "drop_probability = 0.1"
   ]
  },
  {
   "cell_type": "code",
   "execution_count": 34,
   "id": "ad88b52c",
   "metadata": {},
   "outputs": [],
   "source": [
    "model = NN(input_size=input_dim, num_classes=num_classes, p=drop_probability)"
   ]
  },
  {
   "cell_type": "code",
   "execution_count": null,
   "id": "bfcb5b10",
   "metadata": {},
   "outputs": [
    {
     "name": "stderr",
     "output_type": "stream",
     "text": [
      "100%|█████████████████████| 140625/140625 [05:16<00:00, 444.27it/s]\n",
      "100%|█████████████████████| 140625/140625 [04:55<00:00, 476.58it/s]\n",
      " 84%|█████████████████▋   | 118167/140625 [04:10<00:42, 523.13it/s]"
     ]
    }
   ],
   "source": [
    "criterion = nn.CrossEntropyLoss()\n",
    "\n",
    "optimizer = Adam(model.parameters(), lr=learning_rate)\n",
    "\n",
    "for epoch in range(epoch_i):\n",
    "    for data, labels in tqdm(train_loader_full):\n",
    "\n",
    "        model_score = model(data)\n",
    "        loss = criterion(model_score, labels)\n",
    "        optimizer.zero_grad()\n",
    "\n",
    "        loss.backward()\n",
    "\n",
    "        optimizer.step()"
   ]
  },
  {
   "cell_type": "code",
   "execution_count": null,
   "id": "a5ed283e",
   "metadata": {},
   "outputs": [],
   "source": [
    "predicted_labels = output_numpy_array_from_model_training(test_loader_full, model)\n",
    "print(classification_report(labels_test_full, predicted_labels))"
   ]
  },
  {
   "cell_type": "markdown",
   "id": "8dfca748",
   "metadata": {},
   "source": [
    "# Section 3: Creating submission"
   ]
  },
  {
   "cell_type": "code",
   "execution_count": null,
   "id": "a904fc80",
   "metadata": {},
   "outputs": [],
   "source": [
    "submission_matrix, id_submission_matrix = word_vec_to_aggregated_word_embeddings(\n",
    "    dataset_full.submission_dataset,\n",
    "    word_embeddings_full,\n",
    "    200)\n",
    "submission_matrix_tensor = torch.tensor(submission_matrix).type(torch.float)\n",
    "scaled_submission_matrix = normalize(submission_matrix_tensor, p=1.0, dim =-1)\n",
    "submission_dataset = TensorDataset(scaled_submission_matrix, torch.tensor(id_submission_matrix).type(torch.float))\n",
    "submission_loader = DataLoader(dataset=submission_dataset, batch_size=batch_size,  shuffle=False)\n",
    "\n",
    "submission_numpy_array = output_numpy_array_from_model_training(submission_loader, model)\n",
    "submission_numpy_array"
   ]
  },
  {
   "cell_type": "code",
   "execution_count": null,
   "id": "b6f91c4a",
   "metadata": {},
   "outputs": [],
   "source": [
    "create_submission_file(submission_numpy_array)"
   ]
  }
 ],
 "metadata": {
  "kernelspec": {
   "display_name": "Python 3 (ipykernel)",
   "language": "python",
   "name": "python3"
  },
  "language_info": {
   "codemirror_mode": {
    "name": "ipython",
    "version": 3
   },
   "file_extension": ".py",
   "mimetype": "text/x-python",
   "name": "python",
   "nbconvert_exporter": "python",
   "pygments_lexer": "ipython3",
   "version": "3.9.7"
  }
 },
 "nbformat": 4,
 "nbformat_minor": 5
}
