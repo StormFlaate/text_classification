{
 "cells": [
  {
   "cell_type": "markdown",
   "id": "6cdfaaeb",
   "metadata": {},
   "source": [
    "# Section 0: Import section"
   ]
  },
  {
   "cell_type": "code",
   "execution_count": 1,
   "id": "1edf5099",
   "metadata": {},
   "outputs": [],
   "source": [
    "# pytorch \n",
    "import torch\n",
    "import torch.nn as nn\n",
    "from torch.optim import Adam\n",
    "import torch.nn.functional as F\n",
    "from torch.nn.functional import normalize\n",
    "from torch.utils.data import DataLoader, TensorDataset\n",
    "\n",
    "# Helper funcitons and classes\n",
    "from helper_func_and_classes import create_dataset_list, create_submission_file, create_vocab\n",
    "from helper_func_and_classes import split_dataset, create_scaled_matrix_tensor\n",
    "from helper_func_and_classes import word_vec_to_aggregated_word_embeddings\n",
    "from helper_func_and_classes import TwitterDataset, NN, create_data_loader_GloVe\n",
    "from helper_func_and_classes import get_count_of_longest_sentence\n",
    "from helper_func_and_classes import output_numpy_array_from_model_training\n",
    "from helper_func_and_classes import output_numpy_array_from_model_submission\n",
    "\n",
    "# word embeddings\n",
    "from torchtext.vocab import GloVe\n",
    "\n",
    "# scikit-learn\n",
    "from sklearn.preprocessing import scale\n",
    "from sklearn.model_selection import train_test_split\n",
    "from sklearn.metrics import classification_report\n",
    "\n",
    "# plotting \n",
    "import matplotlib.pyplot as plt\n",
    "\n",
    "#data science\n",
    "from tqdm import tqdm\n",
    "import time\n",
    "import warnings\n",
    "\n",
    "# random state\n",
    "RANDOM_SEED = 123 # used in helper functions\n",
    "torch.manual_seed(RANDOM_SEED)\n",
    "warnings.simplefilter(action='ignore', category=FutureWarning);"
   ]
  },
  {
   "cell_type": "markdown",
   "id": "88567cf5",
   "metadata": {},
   "source": [
    "# Section 1: Data preprocessing section\n",
    "This section will extract the data from the three different .txt files. Then, the helper functions will process the tweets to create our vocabulary and three python lists for positive, negative, and submission tweets. The tweets are pre tokenized, so we only split on white space."
   ]
  },
  {
   "cell_type": "code",
   "execution_count": 2,
   "id": "82116058",
   "metadata": {},
   "outputs": [
    {
     "name": "stderr",
     "output_type": "stream",
     "text": [
      "100%|████████████████████████████████████████████████████| 1250000/1250000 [00:01<00:00, 830256.95it/s]\n",
      "100%|████████████████████████████████████████████████████| 1250000/1250000 [00:01<00:00, 755193.90it/s]\n",
      "100%|████████████████████████████████████████████████████████| 10000/10000 [00:00<00:00, 660593.14it/s]\n",
      "100%|██████████████████████████████████████████████████████| 100000/100000 [00:00<00:00, 906496.30it/s]\n",
      "100%|██████████████████████████████████████████████████████| 100000/100000 [00:00<00:00, 895541.41it/s]\n",
      "100%|████████████████████████████████████████████████████████| 10000/10000 [00:00<00:00, 861766.56it/s]\n"
     ]
    },
    {
     "name": "stdout",
     "output_type": "stream",
     "text": [
      "Length of text_vocab_full:  604014\n",
      "Length of text_vocab_lite:  127802\n",
      "Length of submission_data:  10000\n"
     ]
    }
   ],
   "source": [
    "# creating the text vocabulary from the whole data set, including positive, negative and test data.\n",
    "text_vocab_full = create_vocab(\"./twitter-datasets/train_pos_full.txt\",\n",
    "                          \"./twitter-datasets/train_neg_full.txt\",\n",
    "                          \"./twitter-datasets/test_data.txt\")\n",
    "\n",
    "text_vocab_lite = create_vocab(\"./twitter-datasets/train_pos.txt\",\n",
    "                          \"./twitter-datasets/train_neg.txt\",\n",
    "                          \"./twitter-datasets/test_data.txt\")\n",
    "\n",
    "# creating a standard python library list of the tweets that will be used for submission, 1 tweet per index\n",
    "submission_data = create_dataset_list(\"./twitter-datasets/test_data.txt\")\n",
    "\n",
    "print(\"Length of text_vocab_full: \", len(text_vocab_full))\n",
    "print(\"Length of text_vocab_lite: \", len(text_vocab_lite))\n",
    "print(\"Length of submission_data: \",len(submission_data))"
   ]
  },
  {
   "cell_type": "markdown",
   "id": "f695de6d",
   "metadata": {},
   "source": [
    "Here we will create the TwitterDataset class which contains all the pre processed data, here we do not have any cutoff since we can have any length for the quotes since they are just aggregated over the same dimensions.\n",
    "\n",
    "Furthermore we will split and shuffle the dataset into training and testing. The longest sentences is also located by using the get_count_of_longest_sentence on the dataset."
   ]
  },
  {
   "cell_type": "code",
   "execution_count": 3,
   "id": "4278fbf2",
   "metadata": {},
   "outputs": [
    {
     "name": "stderr",
     "output_type": "stream",
     "text": [
      "100%|████████████████████████████████████████████████████| 1250000/1250000 [00:08<00:00, 143047.32it/s]\n",
      "100%|████████████████████████████████████████████████████| 1250000/1250000 [00:09<00:00, 129284.51it/s]\n",
      "100%|██████████████████████████████████████████████████████| 100000/100000 [00:00<00:00, 243740.10it/s]\n",
      "100%|██████████████████████████████████████████████████████| 100000/100000 [00:00<00:00, 132175.88it/s]\n"
     ]
    },
    {
     "name": "stdout",
     "output_type": "stream",
     "text": [
      "Number of elements in train_data is:  2250000\n",
      "Number of elements in test_data is:  250000\n",
      "Number of elements in train_data is:  180000\n",
      "Number of elements in test_data is:  20000\n"
     ]
    }
   ],
   "source": [
    "# Creating the dataset in the TwitterDataset class which is found in the helper functions\n",
    "dataset_full = TwitterDataset(text_vocab_full,\n",
    "                              create_dataset_list(\"./twitter-datasets/train_pos_full.txt\"),\n",
    "                              create_dataset_list(\"./twitter-datasets/train_neg_full.txt\"),\n",
    "                              submission_data,\n",
    "                              1000)\n",
    "\n",
    "dataset_lite = TwitterDataset(text_vocab_lite, \n",
    "                              create_dataset_list(\"./twitter-datasets/train_pos.txt\"),\n",
    "                              create_dataset_list(\"./twitter-datasets/train_neg.txt\"),\n",
    "                              submission_data,\n",
    "                              1000)\n",
    "\n",
    "# create training dataset and test dataset - using a split of 85% / 15%\n",
    "train_dataset_full, test_dataset_full = split_dataset(dataset_full, 0.9);\n",
    "train_dataset_lite, test_dataset_lite = split_dataset(dataset_lite, 0.9);\n",
    "\n",
    "# calculating the longest sentence\n",
    "max_len_full = get_count_of_longest_sentence(dataset_full)\n",
    "max_len_lite = get_count_of_longest_sentence(dataset_lite)"
   ]
  },
  {
   "cell_type": "markdown",
   "id": "2a388b9b",
   "metadata": {},
   "source": [
    "**Setting the parameters for the data loading part:**"
   ]
  },
  {
   "cell_type": "code",
   "execution_count": 4,
   "id": "050275b2",
   "metadata": {},
   "outputs": [],
   "source": [
    "batch_size = 16\n",
    "dim_norm = -1\n",
    "p_norm = 1.0\n",
    "vec_dim = 200\n",
    "glove_vec = GloVe(name='twitter.27B', dim=vec_dim)"
   ]
  },
  {
   "cell_type": "markdown",
   "id": "eeea28c3",
   "metadata": {},
   "source": [
    "**Creating the GloVe word embeddings from the vocabulary:**"
   ]
  },
  {
   "cell_type": "code",
   "execution_count": 5,
   "id": "e1efbd4a",
   "metadata": {},
   "outputs": [],
   "source": [
    "word_embeddings_lite = glove_vec.get_vecs_by_tokens(list(text_vocab_lite.keys()), lower_case_backup=True)\n",
    "word_embeddings_full = glove_vec.get_vecs_by_tokens(list(text_vocab_full.keys()), lower_case_backup=True)"
   ]
  },
  {
   "cell_type": "markdown",
   "id": "50aa7332",
   "metadata": {},
   "source": [
    "**Creating the word embedding vectors and normalizing data:**"
   ]
  },
  {
   "cell_type": "code",
   "execution_count": 6,
   "id": "045182ac",
   "metadata": {},
   "outputs": [
    {
     "name": "stderr",
     "output_type": "stream",
     "text": [
      "2250000it [01:52, 20018.59it/s]\n",
      "/Users/fritt/Documents/epfl/cs433/project/project2/project_text_classification/helper_func_and_classes.py:564: UserWarning: To copy construct from a tensor, it is recommended to use sourceTensor.clone().detach() or sourceTensor.clone().detach().requires_grad_(True), rather than torch.tensor(sourceTensor).\n",
      "  matrix_train_full_tensor = torch.tensor(matrix_train_full).type(torch.float)\n",
      "250000it [00:17, 14549.25it/s]\n",
      "/Users/fritt/Documents/epfl/cs433/project/project2/project_text_classification/helper_func_and_classes.py:571: UserWarning: To copy construct from a tensor, it is recommended to use sourceTensor.clone().detach() or sourceTensor.clone().detach().requires_grad_(True), rather than torch.tensor(sourceTensor).\n",
      "  matrix_test_full_tensor = torch.tensor(matrix_test_full).type(torch.float)\n",
      "180000it [00:09, 18027.00it/s]\n",
      "/Users/fritt/Documents/epfl/cs433/project/project2/project_text_classification/helper_func_and_classes.py:579: UserWarning: To copy construct from a tensor, it is recommended to use sourceTensor.clone().detach() or sourceTensor.clone().detach().requires_grad_(True), rather than torch.tensor(sourceTensor).\n",
      "  matrix_train_lite_tensor = torch.tensor(matrix_train_lite).type(torch.float)\n",
      "20000it [00:00, 20337.36it/s]\n",
      "/Users/fritt/Documents/epfl/cs433/project/project2/project_text_classification/helper_func_and_classes.py:586: UserWarning: To copy construct from a tensor, it is recommended to use sourceTensor.clone().detach() or sourceTensor.clone().detach().requires_grad_(True), rather than torch.tensor(sourceTensor).\n",
      "  matrix_test_lite_tensor = torch.tensor(matrix_test_lite).type(torch.float)\n"
     ]
    }
   ],
   "source": [
    "s_train_full,s_train_lite,s_test_full,s_test_lite,labels_train_full,labels_train_lite,labels_test_full,labels_test_lite = create_scaled_matrix_tensor(\n",
    "    train_dataset_full,\n",
    "    train_dataset_lite,\n",
    "    test_dataset_full,\n",
    "    test_dataset_lite,\n",
    "    word_embeddings_full,\n",
    "    word_embeddings_lite,\n",
    "    vec_dim,\n",
    "    p_norm,\n",
    "    dim_norm)"
   ]
  },
  {
   "cell_type": "code",
   "execution_count": 7,
   "id": "13bab062",
   "metadata": {},
   "outputs": [
    {
     "name": "stdout",
     "output_type": "stream",
     "text": [
      "Shape of s_train_full:  torch.Size([2250000, 200])\n",
      "Shape of s_test_full:  torch.Size([250000, 200])\n",
      "Shape of s_train_lite:  torch.Size([180000, 200])\n",
      "Shape of s_test_lite:  torch.Size([20000, 200])\n"
     ]
    }
   ],
   "source": [
    "print(\"Shape of s_train_full: \", s_train_full.shape)\n",
    "print(\"Shape of s_test_full: \", s_test_full.shape)\n",
    "print(\"Shape of s_train_lite: \", s_train_lite.shape)\n",
    "print(\"Shape of s_test_lite: \", s_test_lite.shape)"
   ]
  },
  {
   "cell_type": "markdown",
   "id": "f05cc4ac",
   "metadata": {},
   "source": [
    "**Creating dataloaders for full data and supbart of full data:**"
   ]
  },
  {
   "cell_type": "code",
   "execution_count": 8,
   "id": "3989a519",
   "metadata": {},
   "outputs": [],
   "source": [
    "train_loader_full, test_loader_full = create_data_loader_GloVe(\n",
    "    s_train_full, \n",
    "    s_test_full,\n",
    "    labels_train_full,\n",
    "    labels_test_full,\n",
    "    batch_size=batch_size)\n",
    "\n",
    "train_loader_lite, test_loader_lite = create_data_loader_GloVe(\n",
    "    s_train_lite, \n",
    "    s_test_lite,\n",
    "    labels_train_lite,\n",
    "    labels_test_lite,\n",
    "    batch_size=batch_size)"
   ]
  },
  {
   "cell_type": "code",
   "execution_count": null,
   "id": "32cd3fa4",
   "metadata": {},
   "outputs": [],
   "source": []
  },
  {
   "cell_type": "markdown",
   "id": "df9ffb1c",
   "metadata": {},
   "source": [
    "# Section 2: Neural network\n",
    "#### Pretrained word embeddings (dim=200) \n",
    "Here we will use pre-trained Global Vector word embeddings (Glove); these will have a dimension of 200 per word. The pre-trained word embeddings were downloaded from https://pytorch.org/text/stable/_modules/torchtext/vocab/vectors.html#GloVe. The word embedding used has been trained on Twitter data, which will increase accuracy since our corpus also consists of Twitter data."
   ]
  },
  {
   "cell_type": "markdown",
   "id": "8eb4803e",
   "metadata": {},
   "source": [
    "## Section 2.1: Choosing best parameters"
   ]
  },
  {
   "cell_type": "code",
   "execution_count": 9,
   "id": "b564e40b",
   "metadata": {},
   "outputs": [],
   "source": [
    "# Finding best parameters for neural network\n",
    "input_dim = 200\n",
    "num_classes = 2\n",
    "epoch_options = [3, 5]\n",
    "lr_options = [1e-4, 5e-4, 1e-3]\n",
    "drop_options = [0.1, 0.2, 0.3]\n",
    "\n",
    "all_options = []\n",
    "for i in epoch_options:\n",
    "    for j in lr_options:\n",
    "        for k in drop_options:\n",
    "             all_options.append([i,j,k])\n",
    "                \n",
    "precision_list = []\n",
    "recall_list = []\n",
    "f1score_list = []\n",
    "support_list = []"
   ]
  },
  {
   "cell_type": "markdown",
   "id": "f1372724",
   "metadata": {},
   "source": [
    "**Testing model for different parameters on the subpart of full dataset:**"
   ]
  },
  {
   "cell_type": "code",
   "execution_count": 10,
   "id": "436da6e9",
   "metadata": {},
   "outputs": [
    {
     "name": "stdout",
     "output_type": "stream",
     "text": [
      "Epoch: 3 | Learning rate: 0.0001 | Dropout probability: 0.1\n",
      "Time of current iteration:  78.25256872177124\n",
      "{'precision': 0.7974285014260523, 'recall': 0.7968865130793907, 'f1-score': 0.7968429966984686, 'support': 20000} \n",
      "\n",
      "Epoch: 3 | Learning rate: 0.0001 | Dropout probability: 0.2\n",
      "Time of current iteration:  72.60966229438782\n",
      "{'precision': 0.7973379439645444, 'recall': 0.7967858921124232, 'f1-score': 0.7967410689655327, 'support': 20000} \n",
      "\n",
      "Epoch: 3 | Learning rate: 0.0001 | Dropout probability: 0.3\n",
      "Time of current iteration:  90.28890204429626\n",
      "{'precision': 0.796391792340051, 'recall': 0.7960499900404043, 'f1-score': 0.7960294343431054, 'support': 20000} \n",
      "\n",
      "Epoch: 3 | Learning rate: 0.0005 | Dropout probability: 0.1\n",
      "Time of current iteration:  75.62051916122437\n",
      "{'precision': 0.7966489645780148, 'recall': 0.7963537129591816, 'f1-score': 0.7963383393956354, 'support': 20000} \n",
      "\n",
      "Epoch: 3 | Learning rate: 0.0005 | Dropout probability: 0.2\n",
      "Time of current iteration:  69.20431709289551\n",
      "{'precision': 0.7947862262791022, 'recall': 0.7944502846672357, 'f1-score': 0.7944296435455034, 'support': 20000} \n",
      "\n",
      "Epoch: 3 | Learning rate: 0.0005 | Dropout probability: 0.3\n",
      "Time of current iteration:  68.64686107635498\n",
      "{'precision': 0.794051295627093, 'recall': 0.7936450069285166, 'f1-score': 0.7936157869857217, 'support': 20000} \n",
      "\n",
      "Epoch: 3 | Learning rate: 0.001 | Dropout probability: 0.1\n",
      "Time of current iteration:  68.84096503257751\n",
      "{'precision': 0.792641268277299, 'recall': 0.7922456134803455, 'f1-score': 0.7922168867547019, 'support': 20000} \n",
      "\n",
      "Epoch: 3 | Learning rate: 0.001 | Dropout probability: 0.2\n",
      "Time of current iteration:  73.22672390937805\n",
      "{'precision': 0.7942847576521037, 'recall': 0.7940047753858914, 'f1-score': 0.793990112410653, 'support': 20000} \n",
      "\n",
      "Epoch: 3 | Learning rate: 0.001 | Dropout probability: 0.3\n",
      "Time of current iteration:  73.98611187934875\n",
      "{'precision': 0.7909659157216287, 'recall': 0.7908174547557403, 'f1-score': 0.7908149191389768, 'support': 20000} \n",
      "\n",
      "Epoch: 5 | Learning rate: 0.0001 | Dropout probability: 0.1\n",
      "Time of current iteration:  141.15290808677673\n",
      "{'precision': 0.8011364890839391, 'recall': 0.8007469351780471, 'f1-score': 0.8007234459189843, 'support': 20000} \n",
      "\n",
      "Epoch: 5 | Learning rate: 0.0001 | Dropout probability: 0.2\n",
      "Time of current iteration:  117.10703182220459\n",
      "{'precision': 0.800869391025641, 'recall': 0.8003908867564218, 'f1-score': 0.8003572854242442, 'support': 20000} \n",
      "\n",
      "Epoch: 5 | Learning rate: 0.0001 | Dropout probability: 0.3\n",
      "Time of current iteration:  118.71007990837097\n",
      "{'precision': 0.7989539782451964, 'recall': 0.7985453640209482, 'f1-score': 0.7985185994993838, 'support': 20000} \n",
      "\n",
      "Epoch: 5 | Learning rate: 0.0005 | Dropout probability: 0.1\n",
      "Time of current iteration:  118.55740714073181\n",
      "{'precision': 0.7996036812266036, 'recall': 0.7993035863074645, 'f1-score': 0.7992888829630844, 'support': 20000} \n",
      "\n",
      "Epoch: 5 | Learning rate: 0.0005 | Dropout probability: 0.2\n",
      "Time of current iteration:  138.6393210887909\n",
      "{'precision': 0.7968084701413293, 'recall': 0.7962877473252519, 'f1-score': 0.7962463907803279, 'support': 20000} \n",
      "\n",
      "Epoch: 5 | Learning rate: 0.0005 | Dropout probability: 0.3\n",
      "Time of current iteration:  130.98411893844604\n",
      "{'precision': 0.7965510253490706, 'recall': 0.795984954415412, 'f1-score': 0.795937785678189, 'support': 20000} \n",
      "\n",
      "Epoch: 5 | Learning rate: 0.001 | Dropout probability: 0.1\n",
      "Time of current iteration:  135.05871605873108\n",
      "{'precision': 0.79814360943468, 'recall': 0.7979645784395988, 'f1-score': 0.7979609640378618, 'support': 20000} \n",
      "\n",
      "Epoch: 5 | Learning rate: 0.001 | Dropout probability: 0.2\n",
      "Time of current iteration:  131.75064873695374\n",
      "{'precision': 0.7955706186444778, 'recall': 0.7954744745097, 'f1-score': 0.7954765841141151, 'support': 20000} \n",
      "\n",
      "Epoch: 5 | Learning rate: 0.001 | Dropout probability: 0.3\n",
      "Time of current iteration:  134.43798303604126\n",
      "{'precision': 0.7932565744427019, 'recall': 0.7930626713322715, 'f1-score': 0.7930564901270492, 'support': 20000} \n",
      "\n",
      "CPU times: user 28min 32s, sys: 16min 34s, total: 45min 6s\n",
      "Wall time: 30min 37s\n"
     ]
    }
   ],
   "source": [
    "%%time\n",
    "\n",
    "for epoch_i, lr_i, drop_i in all_options:\n",
    "    start_time = time.time()\n",
    "    print(f\"Epoch: {epoch_i} | Learning rate: {lr_i} | Dropout probability: {drop_i}\")\n",
    "    \n",
    "    model = NN(input_size=input_dim, num_classes=num_classes, p=drop_i)\n",
    "    criterion = nn.CrossEntropyLoss()\n",
    "    optimizer = Adam(model.parameters(), lr=lr_i)\n",
    "    for epoch in range(epoch_i):\n",
    "        for data, labels in train_loader_lite:\n",
    "\n",
    "            model_score = model(data)\n",
    "            loss = criterion(model_score, labels)\n",
    "            optimizer.zero_grad()\n",
    "\n",
    "            loss.backward()\n",
    "\n",
    "            optimizer.step()\n",
    "    \n",
    "    \n",
    "    # creating status report for current iteration\n",
    "    predicted_labels = output_numpy_array_from_model_training(test_loader_lite, model)\n",
    "    \n",
    "    class_report = classification_report(labels_test_lite, predicted_labels, output_dict=True)['macro avg']\n",
    "    \n",
    "    # appending results to corresponding list\n",
    "    precision_list.append(class_report['precision'])\n",
    "    recall_list.append(class_report['recall'])\n",
    "    f1score_list.append(class_report['f1-score'])\n",
    "    support_list.append(class_report['support'])\n",
    "    print(\"Time of current iteration: \", time.time()-start_time)\n",
    "    print(class_report, \"\\n\")"
   ]
  },
  {
   "cell_type": "markdown",
   "id": "a212ebd4",
   "metadata": {},
   "source": [
    "**Plotting our findings:**"
   ]
  },
  {
   "cell_type": "code",
   "execution_count": 17,
   "id": "f9fb3b31",
   "metadata": {},
   "outputs": [
    {
     "data": {
      "image/png": "[encoded data removed]",
      "text/plain": [
       "<Figure size 1584x576 with 1 Axes>"
      ]
     },
     "metadata": {
      "needs_background": "light"
     },
     "output_type": "display_data"
    }
   ],
   "source": [
    "all_options_str = [f\"{a}-{b}-{c}\" for a,b,c in all_options]\n",
    "\n",
    "\n",
    "\n",
    "plt.rcParams[\"figure.figsize\"] = (22,8)\n",
    "\n",
    "plt.xticks(rotation='55', fontsize=10)\n",
    "plt.plot(all_options_str, precision_list, linestyle='--', marker='o', color='blue', label='precision')\n",
    "plt.plot(all_options_str, recall_list, linestyle='--', marker='o', color='red', label='recall')\n",
    "plt.plot(all_options_str, f1score_list, linestyle='--', marker='o', color='green', label='f1-score')\n",
    "plt.title(\"Grid search for the best parameters\", fontsize=15)\n",
    "plt.xlabel(\"parameters epoch-learing rate-dropout probability\", fontsize=15)\n",
    "plt.ylabel(\"percentage values (%)\", fontsize=15)\n",
    "\n",
    "plt.legend()\n",
    "plt.show();"
   ]
  },
  {
   "cell_type": "markdown",
   "id": "f342554e",
   "metadata": {},
   "source": [
    "## Section 2.2: Training the Neural Network"
   ]
  },
  {
   "cell_type": "markdown",
   "id": "12129d52",
   "metadata": {},
   "source": [
    "**Using the best parameters found in last step:**"
   ]
  },
  {
   "cell_type": "code",
   "execution_count": 18,
   "id": "2bfc33ca",
   "metadata": {},
   "outputs": [],
   "source": [
    "input_dim = 200\n",
    "num_classes = 2\n",
    "learning_rate = 0.0001\n",
    "num_epochs = 5\n",
    "drop_probability = 0.1"
   ]
  },
  {
   "cell_type": "code",
   "execution_count": 19,
   "id": "ad88b52c",
   "metadata": {},
   "outputs": [],
   "source": [
    "model = NN(input_size=input_dim, num_classes=num_classes, p=drop_probability)"
   ]
  },
  {
   "cell_type": "code",
   "execution_count": 20,
   "id": "bfcb5b10",
   "metadata": {},
   "outputs": [
    {
     "name": "stderr",
     "output_type": "stream",
     "text": [
      "100%|█████████████████████████████████████████████████████████| 140625/140625 [06:26<00:00, 363.45it/s]\n",
      "100%|█████████████████████████████████████████████████████████| 140625/140625 [06:05<00:00, 385.17it/s]\n",
      "100%|█████████████████████████████████████████████████████████| 140625/140625 [06:12<00:00, 377.04it/s]\n",
      "100%|█████████████████████████████████████████████████████████| 140625/140625 [05:04<00:00, 462.18it/s]\n",
      "100%|█████████████████████████████████████████████████████████| 140625/140625 [04:34<00:00, 512.99it/s]\n"
     ]
    }
   ],
   "source": [
    "criterion = nn.CrossEntropyLoss()\n",
    "\n",
    "optimizer = Adam(model.parameters(), lr=learning_rate)\n",
    "\n",
    "for epoch in range(epoch_i):\n",
    "    for data, labels in tqdm(train_loader_full):\n",
    "\n",
    "        model_score = model(data)\n",
    "        loss = criterion(model_score, labels)\n",
    "        optimizer.zero_grad()\n",
    "\n",
    "        loss.backward()\n",
    "\n",
    "        optimizer.step()"
   ]
  },
  {
   "cell_type": "code",
   "execution_count": 23,
   "id": "a5ed283e",
   "metadata": {},
   "outputs": [
    {
     "name": "stdout",
     "output_type": "stream",
     "text": [
      "              precision    recall  f1-score   support\n",
      "\n",
      "         0.0     0.8224    0.8078    0.8151    124929\n",
      "         1.0     0.8114    0.8258    0.8185    125071\n",
      "\n",
      "    accuracy                         0.8168    250000\n",
      "   macro avg     0.8169    0.8168    0.8168    250000\n",
      "weighted avg     0.8169    0.8168    0.8168    250000\n",
      "\n"
     ]
    }
   ],
   "source": [
    "predicted_labels = output_numpy_array_from_model_training(test_loader_full, model)\n",
    "print(classification_report(labels_test_full, predicted_labels, digits=4))"
   ]
  },
  {
   "cell_type": "markdown",
   "id": "c780471b",
   "metadata": {},
   "source": [
    "# Section 3: Creating submission"
   ]
  },
  {
   "cell_type": "code",
   "execution_count": 22,
   "id": "6122aa88",
   "metadata": {},
   "outputs": [
    {
     "name": "stderr",
     "output_type": "stream",
     "text": [
      "10000it [00:00, 21572.13it/s]\n",
      "/var/folders/pc/5ytjzw0165n86jc4_pv2802c0000gn/T/ipykernel_87102/3301144756.py:5: UserWarning: To copy construct from a tensor, it is recommended to use sourceTensor.clone().detach() or sourceTensor.clone().detach().requires_grad_(True), rather than torch.tensor(sourceTensor).\n",
      "  submission_tensor = torch.tensor(submission_matrix).type(torch.float)\n",
      "/var/folders/pc/5ytjzw0165n86jc4_pv2802c0000gn/T/ipykernel_87102/3301144756.py:7: UserWarning: To copy construct from a tensor, it is recommended to use sourceTensor.clone().detach() or sourceTensor.clone().detach().requires_grad_(True), rather than torch.tensor(sourceTensor).\n",
      "  submission_dataset = TensorDataset(scaled_submission_matrix, torch.tensor(id_submission_matrix).type(torch.float))\n"
     ]
    },
    {
     "data": {
      "text/plain": [
       "array([0., 0., 0., ..., 0., 1., 0.])"
      ]
     },
     "execution_count": 22,
     "metadata": {},
     "output_type": "execute_result"
    }
   ],
   "source": [
    "submission_matrix, id_submission_matrix = word_vec_to_aggregated_word_embeddings(\n",
    "    dataset_full.submission_dataset,\n",
    "    word_embeddings_full,\n",
    "    200)\n",
    "submission_tensor = torch.tensor(submission_matrix).type(torch.float)\n",
    "scaled_submission_matrix = normalize(submission_tensor, p=p_norm, dim=dim_norm)\n",
    "submission_dataset = TensorDataset(scaled_submission_matrix, torch.tensor(id_submission_matrix).type(torch.float))\n",
    "submission_loader = DataLoader(dataset=submission_dataset, batch_size=batch_size,  shuffle=False)\n",
    "\n",
    "submission_numpy_array = output_numpy_array_from_model_training(submission_loader, model)\n",
    "submission_numpy_array"
   ]
  },
  {
   "cell_type": "code",
   "execution_count": null,
   "id": "957c36d4",
   "metadata": {},
   "outputs": [],
   "source": [
    "create_submission_file(submission_numpy_array)"
   ]
  },
  {
   "cell_type": "code",
   "execution_count": null,
   "id": "540032d8",
   "metadata": {},
   "outputs": [],
   "source": []
  }
 ],
 "metadata": {
  "kernelspec": {
   "display_name": "Python 3 (ipykernel)",
   "language": "python",
   "name": "python3"
  },
  "language_info": {
   "codemirror_mode": {
    "name": "ipython",
    "version": 3
   },
   "file_extension": ".py",
   "mimetype": "text/x-python",
   "name": "python",
   "nbconvert_exporter": "python",
   "pygments_lexer": "ipython3",
   "version": "3.9.7"
  }
 },
 "nbformat": 4,
 "nbformat_minor": 5
}
